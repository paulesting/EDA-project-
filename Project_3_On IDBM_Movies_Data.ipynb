{
 "cells": [
  {
   "cell_type": "markdown",
   "metadata": {},
   "source": [
    "# Project_On\n",
    "# IDBM_Movie_Data:"
   ]
  },
  {
   "cell_type": "markdown",
   "metadata": {},
   "source": [
    "## Aim:\n",
    "\n",
    "### The aim of the project is to analyze the IDBM_Movie_Data with the following details:"
   ]
  },
  {
   "cell_type": "code",
   "execution_count": 391,
   "metadata": {},
   "outputs": [],
   "source": [
    "import numpy as np\n",
    "import pandas as pd\n",
    "import seaborn as sns\n",
    "import matplotlib.pyplot as plt\n",
    "import warnings\n",
    "warnings.simplefilter('ignore')"
   ]
  },
  {
   "cell_type": "markdown",
   "metadata": {},
   "source": [
    "#### Load the data into your working area and get the information about the null values."
   ]
  },
  {
   "cell_type": "code",
   "execution_count": 392,
   "metadata": {},
   "outputs": [
    {
     "data": {
      "text/html": [
       "<div>\n",
       "<style scoped>\n",
       "    .dataframe tbody tr th:only-of-type {\n",
       "        vertical-align: middle;\n",
       "    }\n",
       "\n",
       "    .dataframe tbody tr th {\n",
       "        vertical-align: top;\n",
       "    }\n",
       "\n",
       "    .dataframe thead th {\n",
       "        text-align: right;\n",
       "    }\n",
       "</style>\n",
       "<table border=\"1\" class=\"dataframe\">\n",
       "  <thead>\n",
       "    <tr style=\"text-align: right;\">\n",
       "      <th></th>\n",
       "      <th>Rank</th>\n",
       "      <th>Title</th>\n",
       "      <th>Genre</th>\n",
       "      <th>Description</th>\n",
       "      <th>Director</th>\n",
       "      <th>Actors</th>\n",
       "      <th>Year</th>\n",
       "      <th>Runtime (Minutes)</th>\n",
       "      <th>Rating</th>\n",
       "      <th>Votes</th>\n",
       "      <th>Revenue (Millions)</th>\n",
       "      <th>Metascore</th>\n",
       "    </tr>\n",
       "  </thead>\n",
       "  <tbody>\n",
       "    <tr>\n",
       "      <th>0</th>\n",
       "      <td>1</td>\n",
       "      <td>Guardians of the Galaxy</td>\n",
       "      <td>Action,Adventure,Sci-Fi</td>\n",
       "      <td>A group of intergalactic criminals are forced ...</td>\n",
       "      <td>James Gunn</td>\n",
       "      <td>Chris Pratt, Vin Diesel, Bradley Cooper, Zoe S...</td>\n",
       "      <td>2014</td>\n",
       "      <td>121</td>\n",
       "      <td>8.1</td>\n",
       "      <td>757074</td>\n",
       "      <td>333.13</td>\n",
       "      <td>76.0</td>\n",
       "    </tr>\n",
       "    <tr>\n",
       "      <th>1</th>\n",
       "      <td>2</td>\n",
       "      <td>Prometheus</td>\n",
       "      <td>Adventure,Mystery,Sci-Fi</td>\n",
       "      <td>Following clues to the origin of mankind, a te...</td>\n",
       "      <td>Ridley Scott</td>\n",
       "      <td>Noomi Rapace, Logan Marshall-Green, Michael Fa...</td>\n",
       "      <td>2012</td>\n",
       "      <td>124</td>\n",
       "      <td>7.0</td>\n",
       "      <td>485820</td>\n",
       "      <td>126.46</td>\n",
       "      <td>65.0</td>\n",
       "    </tr>\n",
       "    <tr>\n",
       "      <th>2</th>\n",
       "      <td>3</td>\n",
       "      <td>Split</td>\n",
       "      <td>Horror,Thriller</td>\n",
       "      <td>Three girls are kidnapped by a man with a diag...</td>\n",
       "      <td>M. Night Shyamalan</td>\n",
       "      <td>James McAvoy, Anya Taylor-Joy, Haley Lu Richar...</td>\n",
       "      <td>2016</td>\n",
       "      <td>117</td>\n",
       "      <td>7.3</td>\n",
       "      <td>157606</td>\n",
       "      <td>138.12</td>\n",
       "      <td>62.0</td>\n",
       "    </tr>\n",
       "    <tr>\n",
       "      <th>3</th>\n",
       "      <td>4</td>\n",
       "      <td>Sing</td>\n",
       "      <td>Animation,Comedy,Family</td>\n",
       "      <td>In a city of humanoid animals, a hustling thea...</td>\n",
       "      <td>Christophe Lourdelet</td>\n",
       "      <td>Matthew McConaughey,Reese Witherspoon, Seth Ma...</td>\n",
       "      <td>2016</td>\n",
       "      <td>108</td>\n",
       "      <td>7.2</td>\n",
       "      <td>60545</td>\n",
       "      <td>270.32</td>\n",
       "      <td>59.0</td>\n",
       "    </tr>\n",
       "    <tr>\n",
       "      <th>4</th>\n",
       "      <td>5</td>\n",
       "      <td>Suicide Squad</td>\n",
       "      <td>Action,Adventure,Fantasy</td>\n",
       "      <td>A secret government agency recruits some of th...</td>\n",
       "      <td>David Ayer</td>\n",
       "      <td>Will Smith, Jared Leto, Margot Robbie, Viola D...</td>\n",
       "      <td>2016</td>\n",
       "      <td>123</td>\n",
       "      <td>6.2</td>\n",
       "      <td>393727</td>\n",
       "      <td>325.02</td>\n",
       "      <td>40.0</td>\n",
       "    </tr>\n",
       "  </tbody>\n",
       "</table>\n",
       "</div>"
      ],
      "text/plain": [
       "   Rank                    Title                     Genre  \\\n",
       "0     1  Guardians of the Galaxy   Action,Adventure,Sci-Fi   \n",
       "1     2               Prometheus  Adventure,Mystery,Sci-Fi   \n",
       "2     3                    Split           Horror,Thriller   \n",
       "3     4                     Sing   Animation,Comedy,Family   \n",
       "4     5            Suicide Squad  Action,Adventure,Fantasy   \n",
       "\n",
       "                                         Description              Director  \\\n",
       "0  A group of intergalactic criminals are forced ...            James Gunn   \n",
       "1  Following clues to the origin of mankind, a te...          Ridley Scott   \n",
       "2  Three girls are kidnapped by a man with a diag...    M. Night Shyamalan   \n",
       "3  In a city of humanoid animals, a hustling thea...  Christophe Lourdelet   \n",
       "4  A secret government agency recruits some of th...            David Ayer   \n",
       "\n",
       "                                              Actors  Year  Runtime (Minutes)  \\\n",
       "0  Chris Pratt, Vin Diesel, Bradley Cooper, Zoe S...  2014                121   \n",
       "1  Noomi Rapace, Logan Marshall-Green, Michael Fa...  2012                124   \n",
       "2  James McAvoy, Anya Taylor-Joy, Haley Lu Richar...  2016                117   \n",
       "3  Matthew McConaughey,Reese Witherspoon, Seth Ma...  2016                108   \n",
       "4  Will Smith, Jared Leto, Margot Robbie, Viola D...  2016                123   \n",
       "\n",
       "   Rating   Votes  Revenue (Millions)  Metascore  \n",
       "0     8.1  757074              333.13       76.0  \n",
       "1     7.0  485820              126.46       65.0  \n",
       "2     7.3  157606              138.12       62.0  \n",
       "3     7.2   60545              270.32       59.0  \n",
       "4     6.2  393727              325.02       40.0  "
      ]
     },
     "execution_count": 392,
     "metadata": {},
     "output_type": "execute_result"
    }
   ],
   "source": [
    "data = pd.read_csv('movies/IMDB_Movie_Data.csv')\n",
    "data.head()"
   ]
  },
  {
   "cell_type": "code",
   "execution_count": 393,
   "metadata": {},
   "outputs": [
    {
     "data": {
      "text/plain": [
       "Rank                    0\n",
       "Title                   0\n",
       "Genre                   0\n",
       "Description             0\n",
       "Director                0\n",
       "Actors                  0\n",
       "Year                    0\n",
       "Runtime (Minutes)       0\n",
       "Rating                  0\n",
       "Votes                   0\n",
       "Revenue (Millions)    128\n",
       "Metascore              64\n",
       "dtype: int64"
      ]
     },
     "execution_count": 393,
     "metadata": {},
     "output_type": "execute_result"
    }
   ],
   "source": [
    "data.isnull().sum()"
   ]
  },
  {
   "cell_type": "code",
   "execution_count": 394,
   "metadata": {},
   "outputs": [
    {
     "data": {
      "image/png": "[encoded data removed]",
      "text/plain": [
       "<Figure size 576x432 with 1 Axes>"
      ]
     },
     "metadata": {
      "needs_background": "light"
     },
     "output_type": "display_data"
    }
   ],
   "source": [
    "fig, ax = plt.subplots(figsize=(8,6))\n",
    "sns.heatmap(data.isnull(), cbar=False, ax=ax)\n",
    "ax.set_yticks([]);\n",
    "ax.tick_params(bottom='')"
   ]
  },
  {
   "cell_type": "markdown",
   "metadata": {},
   "source": [
    "#### Rename the columns for the analysis purpose if any columns are not in proper way."
   ]
  },
  {
   "cell_type": "code",
   "execution_count": 395,
   "metadata": {
    "scrolled": false
   },
   "outputs": [
    {
     "data": {
      "text/plain": [
       "Index(['Rank', 'Title', 'Genre', 'Description', 'Director', 'Actors', 'Year',\n",
       "       'Runtime (Minutes)', 'Rating', 'Votes', 'Revenue (Millions)',\n",
       "       'Metascore'],\n",
       "      dtype='object')"
      ]
     },
     "execution_count": 395,
     "metadata": {},
     "output_type": "execute_result"
    }
   ],
   "source": [
    "data.columns"
   ]
  },
  {
   "cell_type": "code",
   "execution_count": 396,
   "metadata": {
    "scrolled": true
   },
   "outputs": [],
   "source": [
    "data = data.rename(columns = {'Runtime (Minutes)':'Runtime_In_Minutes','Revenue (Millions)':'Revenue_In_Millions'})"
   ]
  },
  {
   "cell_type": "code",
   "execution_count": 397,
   "metadata": {},
   "outputs": [
    {
     "data": {
      "text/plain": [
       "Index(['Rank', 'Title', 'Genre', 'Description', 'Director', 'Actors', 'Year',\n",
       "       'Runtime_In_Minutes', 'Rating', 'Votes', 'Revenue_In_Millions',\n",
       "       'Metascore'],\n",
       "      dtype='object')"
      ]
     },
     "execution_count": 397,
     "metadata": {},
     "output_type": "execute_result"
    }
   ],
   "source": [
    "data.columns"
   ]
  },
  {
   "cell_type": "markdown",
   "metadata": {},
   "source": [
    "#### Handle the missing value columns with the proper assumtion."
   ]
  },
  {
   "cell_type": "code",
   "execution_count": 398,
   "metadata": {},
   "outputs": [
    {
     "data": {
      "text/html": [
       "<div>\n",
       "<style scoped>\n",
       "    .dataframe tbody tr th:only-of-type {\n",
       "        vertical-align: middle;\n",
       "    }\n",
       "\n",
       "    .dataframe tbody tr th {\n",
       "        vertical-align: top;\n",
       "    }\n",
       "\n",
       "    .dataframe thead th {\n",
       "        text-align: right;\n",
       "    }\n",
       "</style>\n",
       "<table border=\"1\" class=\"dataframe\">\n",
       "  <thead>\n",
       "    <tr style=\"text-align: right;\">\n",
       "      <th></th>\n",
       "      <th>count</th>\n",
       "      <th>mean</th>\n",
       "      <th>std</th>\n",
       "      <th>min</th>\n",
       "      <th>25%</th>\n",
       "      <th>50%</th>\n",
       "      <th>75%</th>\n",
       "      <th>max</th>\n",
       "    </tr>\n",
       "  </thead>\n",
       "  <tbody>\n",
       "    <tr>\n",
       "      <th>Revenue_In_Millions</th>\n",
       "      <td>872.0</td>\n",
       "      <td>82.956376</td>\n",
       "      <td>103.253540</td>\n",
       "      <td>0.0</td>\n",
       "      <td>13.27</td>\n",
       "      <td>47.985</td>\n",
       "      <td>113.715</td>\n",
       "      <td>936.63</td>\n",
       "    </tr>\n",
       "    <tr>\n",
       "      <th>Metascore</th>\n",
       "      <td>936.0</td>\n",
       "      <td>58.985043</td>\n",
       "      <td>17.194757</td>\n",
       "      <td>11.0</td>\n",
       "      <td>47.00</td>\n",
       "      <td>59.500</td>\n",
       "      <td>72.000</td>\n",
       "      <td>100.00</td>\n",
       "    </tr>\n",
       "  </tbody>\n",
       "</table>\n",
       "</div>"
      ],
      "text/plain": [
       "                     count       mean         std   min    25%     50%  \\\n",
       "Revenue_In_Millions  872.0  82.956376  103.253540   0.0  13.27  47.985   \n",
       "Metascore            936.0  58.985043   17.194757  11.0  47.00  59.500   \n",
       "\n",
       "                         75%     max  \n",
       "Revenue_In_Millions  113.715  936.63  \n",
       "Metascore             72.000  100.00  "
      ]
     },
     "execution_count": 398,
     "metadata": {},
     "output_type": "execute_result"
    }
   ],
   "source": [
    "data.describe().iloc[:,-2:].T"
   ]
  },
  {
   "cell_type": "code",
   "execution_count": 399,
   "metadata": {},
   "outputs": [],
   "source": [
    "data['Revenue_In_Millions'] = data['Revenue_In_Millions'].fillna(round(data['Revenue_In_Millions'].mean(),2))\n",
    "data['Metascore'] = data['Metascore'].fillna(round(data['Metascore'].mean())).astype('int')"
   ]
  },
  {
   "cell_type": "code",
   "execution_count": 400,
   "metadata": {},
   "outputs": [
    {
     "data": {
      "image/png": "[encoded data removed]",
      "text/plain": [
       "<Figure size 576x432 with 1 Axes>"
      ]
     },
     "metadata": {
      "needs_background": "light"
     },
     "output_type": "display_data"
    }
   ],
   "source": [
    "fig, ax = plt.subplots(figsize=(8,6))\n",
    "sns.heatmap(data.isnull(), cbar=False, ax=ax)\n",
    "ax.set_yticks([]);\n",
    "ax.tick_params(bottom='')"
   ]
  },
  {
   "cell_type": "code",
   "execution_count": 401,
   "metadata": {},
   "outputs": [
    {
     "data": {
      "text/html": [
       "<div>\n",
       "<style scoped>\n",
       "    .dataframe tbody tr th:only-of-type {\n",
       "        vertical-align: middle;\n",
       "    }\n",
       "\n",
       "    .dataframe tbody tr th {\n",
       "        vertical-align: top;\n",
       "    }\n",
       "\n",
       "    .dataframe thead th {\n",
       "        text-align: right;\n",
       "    }\n",
       "</style>\n",
       "<table border=\"1\" class=\"dataframe\">\n",
       "  <thead>\n",
       "    <tr style=\"text-align: right;\">\n",
       "      <th></th>\n",
       "      <th>count</th>\n",
       "      <th>mean</th>\n",
       "      <th>std</th>\n",
       "      <th>min</th>\n",
       "      <th>25%</th>\n",
       "      <th>50%</th>\n",
       "      <th>75%</th>\n",
       "      <th>max</th>\n",
       "    </tr>\n",
       "  </thead>\n",
       "  <tbody>\n",
       "    <tr>\n",
       "      <th>Revenue_In_Millions</th>\n",
       "      <td>1000.0</td>\n",
       "      <td>82.95684</td>\n",
       "      <td>96.412043</td>\n",
       "      <td>0.0</td>\n",
       "      <td>17.4425</td>\n",
       "      <td>60.375</td>\n",
       "      <td>99.1775</td>\n",
       "      <td>936.63</td>\n",
       "    </tr>\n",
       "    <tr>\n",
       "      <th>Metascore</th>\n",
       "      <td>1000.0</td>\n",
       "      <td>58.98600</td>\n",
       "      <td>16.634859</td>\n",
       "      <td>11.0</td>\n",
       "      <td>47.7500</td>\n",
       "      <td>59.000</td>\n",
       "      <td>71.0000</td>\n",
       "      <td>100.00</td>\n",
       "    </tr>\n",
       "  </tbody>\n",
       "</table>\n",
       "</div>"
      ],
      "text/plain": [
       "                      count      mean        std   min      25%     50%  \\\n",
       "Revenue_In_Millions  1000.0  82.95684  96.412043   0.0  17.4425  60.375   \n",
       "Metascore            1000.0  58.98600  16.634859  11.0  47.7500  59.000   \n",
       "\n",
       "                         75%     max  \n",
       "Revenue_In_Millions  99.1775  936.63  \n",
       "Metascore            71.0000  100.00  "
      ]
     },
     "execution_count": 401,
     "metadata": {},
     "output_type": "execute_result"
    }
   ],
   "source": [
    "data.describe().iloc[:,-2:].T"
   ]
  },
  {
   "cell_type": "markdown",
   "metadata": {},
   "source": [
    "*Doing this has no impactful effect on the overall data.*"
   ]
  },
  {
   "cell_type": "markdown",
   "metadata": {},
   "source": [
    "####  Generate the relationship between each continuous variable using corr() method."
   ]
  },
  {
   "cell_type": "code",
   "execution_count": 402,
   "metadata": {
    "scrolled": true
   },
   "outputs": [
    {
     "data": {
      "text/html": [
       "<div>\n",
       "<style scoped>\n",
       "    .dataframe tbody tr th:only-of-type {\n",
       "        vertical-align: middle;\n",
       "    }\n",
       "\n",
       "    .dataframe tbody tr th {\n",
       "        vertical-align: top;\n",
       "    }\n",
       "\n",
       "    .dataframe thead th {\n",
       "        text-align: right;\n",
       "    }\n",
       "</style>\n",
       "<table border=\"1\" class=\"dataframe\">\n",
       "  <thead>\n",
       "    <tr style=\"text-align: right;\">\n",
       "      <th></th>\n",
       "      <th>Rank</th>\n",
       "      <th>Year</th>\n",
       "      <th>Runtime_In_Minutes</th>\n",
       "      <th>Rating</th>\n",
       "      <th>Votes</th>\n",
       "      <th>Revenue_In_Millions</th>\n",
       "      <th>Metascore</th>\n",
       "    </tr>\n",
       "  </thead>\n",
       "  <tbody>\n",
       "    <tr>\n",
       "      <th>Rank</th>\n",
       "      <td>1.000000</td>\n",
       "      <td>-0.261605</td>\n",
       "      <td>-0.221739</td>\n",
       "      <td>-0.219555</td>\n",
       "      <td>-0.283876</td>\n",
       "      <td>-0.252995</td>\n",
       "      <td>-0.185153</td>\n",
       "    </tr>\n",
       "    <tr>\n",
       "      <th>Year</th>\n",
       "      <td>-0.261605</td>\n",
       "      <td>1.000000</td>\n",
       "      <td>-0.164900</td>\n",
       "      <td>-0.211219</td>\n",
       "      <td>-0.411904</td>\n",
       "      <td>-0.117558</td>\n",
       "      <td>-0.076074</td>\n",
       "    </tr>\n",
       "    <tr>\n",
       "      <th>Runtime_In_Minutes</th>\n",
       "      <td>-0.221739</td>\n",
       "      <td>-0.164900</td>\n",
       "      <td>1.000000</td>\n",
       "      <td>0.392214</td>\n",
       "      <td>0.407062</td>\n",
       "      <td>0.247831</td>\n",
       "      <td>0.202235</td>\n",
       "    </tr>\n",
       "    <tr>\n",
       "      <th>Rating</th>\n",
       "      <td>-0.219555</td>\n",
       "      <td>-0.211219</td>\n",
       "      <td>0.392214</td>\n",
       "      <td>1.000000</td>\n",
       "      <td>0.511537</td>\n",
       "      <td>0.189524</td>\n",
       "      <td>0.604717</td>\n",
       "    </tr>\n",
       "    <tr>\n",
       "      <th>Votes</th>\n",
       "      <td>-0.283876</td>\n",
       "      <td>-0.411904</td>\n",
       "      <td>0.407062</td>\n",
       "      <td>0.511537</td>\n",
       "      <td>1.000000</td>\n",
       "      <td>0.607937</td>\n",
       "      <td>0.318092</td>\n",
       "    </tr>\n",
       "    <tr>\n",
       "      <th>Revenue_In_Millions</th>\n",
       "      <td>-0.252995</td>\n",
       "      <td>-0.117558</td>\n",
       "      <td>0.247831</td>\n",
       "      <td>0.189524</td>\n",
       "      <td>0.607937</td>\n",
       "      <td>1.000000</td>\n",
       "      <td>0.132291</td>\n",
       "    </tr>\n",
       "    <tr>\n",
       "      <th>Metascore</th>\n",
       "      <td>-0.185153</td>\n",
       "      <td>-0.076074</td>\n",
       "      <td>0.202235</td>\n",
       "      <td>0.604717</td>\n",
       "      <td>0.318092</td>\n",
       "      <td>0.132291</td>\n",
       "      <td>1.000000</td>\n",
       "    </tr>\n",
       "  </tbody>\n",
       "</table>\n",
       "</div>"
      ],
      "text/plain": [
       "                         Rank      Year  Runtime_In_Minutes    Rating  \\\n",
       "Rank                 1.000000 -0.261605           -0.221739 -0.219555   \n",
       "Year                -0.261605  1.000000           -0.164900 -0.211219   \n",
       "Runtime_In_Minutes  -0.221739 -0.164900            1.000000  0.392214   \n",
       "Rating              -0.219555 -0.211219            0.392214  1.000000   \n",
       "Votes               -0.283876 -0.411904            0.407062  0.511537   \n",
       "Revenue_In_Millions -0.252995 -0.117558            0.247831  0.189524   \n",
       "Metascore           -0.185153 -0.076074            0.202235  0.604717   \n",
       "\n",
       "                        Votes  Revenue_In_Millions  Metascore  \n",
       "Rank                -0.283876            -0.252995  -0.185153  \n",
       "Year                -0.411904            -0.117558  -0.076074  \n",
       "Runtime_In_Minutes   0.407062             0.247831   0.202235  \n",
       "Rating               0.511537             0.189524   0.604717  \n",
       "Votes                1.000000             0.607937   0.318092  \n",
       "Revenue_In_Millions  0.607937             1.000000   0.132291  \n",
       "Metascore            0.318092             0.132291   1.000000  "
      ]
     },
     "execution_count": 402,
     "metadata": {},
     "output_type": "execute_result"
    }
   ],
   "source": [
    "corr = data.corr()\n",
    "corr"
   ]
  },
  {
   "cell_type": "markdown",
   "metadata": {},
   "source": [
    "Since there is a duplicate of every value, the repeated ones will be masked, even before plotting it."
   ]
  },
  {
   "cell_type": "code",
   "execution_count": 403,
   "metadata": {
    "scrolled": true
   },
   "outputs": [
    {
     "data": {
      "image/png": "[encoded data removed]",
      "text/plain": [
       "<Figure size 576x504 with 2 Axes>"
      ]
     },
     "metadata": {
      "needs_background": "light"
     },
     "output_type": "display_data"
    }
   ],
   "source": [
    "mask = np.zeros((7,7))\n",
    "for i in range(6):\n",
    "    mask[i+1:,i]=1\n",
    "mask = mask.T\n",
    "\n",
    "\n",
    "plt.figure(figsize = (8,7))\n",
    "sns.heatmap(corr, annot = True, mask = mask) \n",
    "plt.tick_params(bottom = '', left = '')\n",
    "plt.title('An Heatmap Showing the Correlation Between Continuous Variables.\\n\\n');"
   ]
  },
  {
   "cell_type": "code",
   "execution_count": 404,
   "metadata": {},
   "outputs": [
    {
     "data": {
      "text/plain": [
       "<seaborn.axisgrid.PairGrid at 0x4cb7e0cc8>"
      ]
     },
     "execution_count": 404,
     "metadata": {},
     "output_type": "execute_result"
    },
    {
     "data": {
      "image/png": "[encoded data removed]",
      "text/plain": [
       "<Figure size 900x900 with 30 Axes>"
      ]
     },
     "metadata": {
      "needs_background": "light"
     },
     "output_type": "display_data"
    }
   ],
   "source": [
    "PairplotCol = ['Genre','Runtime_In_Minutes','Rating','Votes','Revenue_In_Millions','Metascore'] #Selects those with a tangible correlation.\n",
    "sns.pairplot(data[PairplotCol], markers='+', kind='reg')"
   ]
  },
  {
   "cell_type": "markdown",
   "metadata": {},
   "source": [
    "####  Find the movies directed by 'James Gunn', & 'Ridley Scott' with the rating greater than or equal to 8."
   ]
  },
  {
   "cell_type": "code",
   "execution_count": 405,
   "metadata": {},
   "outputs": [
    {
     "data": {
      "text/html": [
       "<div>\n",
       "<style scoped>\n",
       "    .dataframe tbody tr th:only-of-type {\n",
       "        vertical-align: middle;\n",
       "    }\n",
       "\n",
       "    .dataframe tbody tr th {\n",
       "        vertical-align: top;\n",
       "    }\n",
       "\n",
       "    .dataframe thead th {\n",
       "        text-align: right;\n",
       "    }\n",
       "</style>\n",
       "<table border=\"1\" class=\"dataframe\">\n",
       "  <thead>\n",
       "    <tr style=\"text-align: right;\">\n",
       "      <th></th>\n",
       "      <th>Rank</th>\n",
       "      <th>Title</th>\n",
       "      <th>Genre</th>\n",
       "      <th>Description</th>\n",
       "      <th>Director</th>\n",
       "      <th>Actors</th>\n",
       "      <th>Year</th>\n",
       "      <th>Runtime_In_Minutes</th>\n",
       "      <th>Rating</th>\n",
       "      <th>Votes</th>\n",
       "      <th>Revenue_In_Millions</th>\n",
       "      <th>Metascore</th>\n",
       "    </tr>\n",
       "  </thead>\n",
       "  <tbody>\n",
       "    <tr>\n",
       "      <th>0</th>\n",
       "      <td>1</td>\n",
       "      <td>Guardians of the Galaxy</td>\n",
       "      <td>Action,Adventure,Sci-Fi</td>\n",
       "      <td>A group of intergalactic criminals are forced ...</td>\n",
       "      <td>James Gunn</td>\n",
       "      <td>Chris Pratt, Vin Diesel, Bradley Cooper, Zoe S...</td>\n",
       "      <td>2014</td>\n",
       "      <td>121</td>\n",
       "      <td>8.1</td>\n",
       "      <td>757074</td>\n",
       "      <td>333.13</td>\n",
       "      <td>76</td>\n",
       "    </tr>\n",
       "    <tr>\n",
       "      <th>1</th>\n",
       "      <td>2</td>\n",
       "      <td>Prometheus</td>\n",
       "      <td>Adventure,Mystery,Sci-Fi</td>\n",
       "      <td>Following clues to the origin of mankind, a te...</td>\n",
       "      <td>Ridley Scott</td>\n",
       "      <td>Noomi Rapace, Logan Marshall-Green, Michael Fa...</td>\n",
       "      <td>2012</td>\n",
       "      <td>124</td>\n",
       "      <td>7.0</td>\n",
       "      <td>485820</td>\n",
       "      <td>126.46</td>\n",
       "      <td>65</td>\n",
       "    </tr>\n",
       "    <tr>\n",
       "      <th>2</th>\n",
       "      <td>3</td>\n",
       "      <td>Split</td>\n",
       "      <td>Horror,Thriller</td>\n",
       "      <td>Three girls are kidnapped by a man with a diag...</td>\n",
       "      <td>M. Night Shyamalan</td>\n",
       "      <td>James McAvoy, Anya Taylor-Joy, Haley Lu Richar...</td>\n",
       "      <td>2016</td>\n",
       "      <td>117</td>\n",
       "      <td>7.3</td>\n",
       "      <td>157606</td>\n",
       "      <td>138.12</td>\n",
       "      <td>62</td>\n",
       "    </tr>\n",
       "    <tr>\n",
       "      <th>3</th>\n",
       "      <td>4</td>\n",
       "      <td>Sing</td>\n",
       "      <td>Animation,Comedy,Family</td>\n",
       "      <td>In a city of humanoid animals, a hustling thea...</td>\n",
       "      <td>Christophe Lourdelet</td>\n",
       "      <td>Matthew McConaughey,Reese Witherspoon, Seth Ma...</td>\n",
       "      <td>2016</td>\n",
       "      <td>108</td>\n",
       "      <td>7.2</td>\n",
       "      <td>60545</td>\n",
       "      <td>270.32</td>\n",
       "      <td>59</td>\n",
       "    </tr>\n",
       "    <tr>\n",
       "      <th>4</th>\n",
       "      <td>5</td>\n",
       "      <td>Suicide Squad</td>\n",
       "      <td>Action,Adventure,Fantasy</td>\n",
       "      <td>A secret government agency recruits some of th...</td>\n",
       "      <td>David Ayer</td>\n",
       "      <td>Will Smith, Jared Leto, Margot Robbie, Viola D...</td>\n",
       "      <td>2016</td>\n",
       "      <td>123</td>\n",
       "      <td>6.2</td>\n",
       "      <td>393727</td>\n",
       "      <td>325.02</td>\n",
       "      <td>40</td>\n",
       "    </tr>\n",
       "  </tbody>\n",
       "</table>\n",
       "</div>"
      ],
      "text/plain": [
       "   Rank                    Title                     Genre  \\\n",
       "0     1  Guardians of the Galaxy   Action,Adventure,Sci-Fi   \n",
       "1     2               Prometheus  Adventure,Mystery,Sci-Fi   \n",
       "2     3                    Split           Horror,Thriller   \n",
       "3     4                     Sing   Animation,Comedy,Family   \n",
       "4     5            Suicide Squad  Action,Adventure,Fantasy   \n",
       "\n",
       "                                         Description              Director  \\\n",
       "0  A group of intergalactic criminals are forced ...            James Gunn   \n",
       "1  Following clues to the origin of mankind, a te...          Ridley Scott   \n",
       "2  Three girls are kidnapped by a man with a diag...    M. Night Shyamalan   \n",
       "3  In a city of humanoid animals, a hustling thea...  Christophe Lourdelet   \n",
       "4  A secret government agency recruits some of th...            David Ayer   \n",
       "\n",
       "                                              Actors  Year  \\\n",
       "0  Chris Pratt, Vin Diesel, Bradley Cooper, Zoe S...  2014   \n",
       "1  Noomi Rapace, Logan Marshall-Green, Michael Fa...  2012   \n",
       "2  James McAvoy, Anya Taylor-Joy, Haley Lu Richar...  2016   \n",
       "3  Matthew McConaughey,Reese Witherspoon, Seth Ma...  2016   \n",
       "4  Will Smith, Jared Leto, Margot Robbie, Viola D...  2016   \n",
       "\n",
       "   Runtime_In_Minutes  Rating   Votes  Revenue_In_Millions  Metascore  \n",
       "0                 121     8.1  757074               333.13         76  \n",
       "1                 124     7.0  485820               126.46         65  \n",
       "2                 117     7.3  157606               138.12         62  \n",
       "3                 108     7.2   60545               270.32         59  \n",
       "4                 123     6.2  393727               325.02         40  "
      ]
     },
     "execution_count": 405,
     "metadata": {},
     "output_type": "execute_result"
    }
   ],
   "source": [
    "data.head()"
   ]
  },
  {
   "cell_type": "code",
   "execution_count": 406,
   "metadata": {},
   "outputs": [
    {
     "name": "stdout",
     "output_type": "stream",
     "text": [
      "Movies directed by James Gunn, & Ridley Scott with their ratings greater than or equal to 8 are:\n",
      "\n",
      "['Guardians of the Galaxy' 'The Martian']\n"
     ]
    }
   ],
   "source": [
    "condition_1 = data['Director']=='James Gunn'\n",
    "condition_2 = data['Director']=='Ridley Scott'\n",
    "condition_3 = data['Rating']>=8\n",
    "filtered = data.Title[((condition_1) | (condition_2)) & (condition_3)].values\n",
    "print('Movies directed by James Gunn, & Ridley Scott with their ratings greater than or equal to 8 are:',filtered, sep = '\\n\\n')"
   ]
  },
  {
   "cell_type": "markdown",
   "metadata": {},
   "source": [
    "####  Display all the movies directed by 'Ridley Scott'."
   ]
  },
  {
   "cell_type": "code",
   "execution_count": 407,
   "metadata": {},
   "outputs": [
    {
     "name": "stdout",
     "output_type": "stream",
     "text": [
      "Movies directed by Ridley Scott are:\n",
      "\n",
      "['Prometheus' 'The Martian' 'Robin Hood' 'American Gangster'\n",
      " 'Exodus: Gods and Kings' 'The Counselor' 'A Good Year' 'Body of Lies']\n"
     ]
    }
   ],
   "source": [
    "Movcondition = data.Director=='Ridley Scott'\n",
    "Movfiltered = data.Title[Movcondition].values\n",
    "print('Movies directed by Ridley Scott are:',Movfiltered, sep = '\\n\\n')"
   ]
  },
  {
   "cell_type": "markdown",
   "metadata": {},
   "source": [
    "####  Display all the director's who got the rating >= 8 for their movies."
   ]
  },
  {
   "cell_type": "code",
   "execution_count": 408,
   "metadata": {},
   "outputs": [
    {
     "name": "stdout",
     "output_type": "stream",
     "text": [
      "Directors whose movies had ratings of at least 8 are:\n",
      "\n",
      "['James Gunn' 'Damien Chazelle' 'Mel Gibson' 'Garth Davis'\n",
      " 'Denis Villeneuve' 'S.S. Rajamouli' 'Tim Miller' 'Christopher Nolan'\n",
      " 'J.J. Abrams' 'Christopher Nolan' 'Christopher Nolan' 'George Miller'\n",
      " 'Byron Howard' 'Joss Whedon' 'Quentin Tarantino' 'Christopher Nolan'\n",
      " 'Martin Scorsese' 'David Fincher' 'Denis Villeneuve' 'Tate Taylor'\n",
      " 'Makoto Shinkai' 'Martin Scorsese' 'Ridley Scott' 'Steve McQueen'\n",
      " 'David Yates' 'Nitesh Tiwari' 'Christopher Nolan'\n",
      " 'Alejandro González Iñárritu' 'Damien Chazelle' 'Ethan Coen'\n",
      " 'Martin Scorsese' 'J.J. Abrams' 'Lenny Abrahamson' 'Quentin Tarantino'\n",
      " 'Chan-wook Park' 'David Lynch' 'Bryan Singer' 'Martin Campbell'\n",
      " 'Spike Jonze' 'Asghar Farhadi' 'Tom McCarthy' \"Gavin O'Connor\"\n",
      " 'Sean Penn' 'Morten Tyldum' 'Guillermo del Toro' 'Stephen Chbosky'\n",
      " 'Wes Anderson' 'Pete Docter' 'Olivier Nakache' 'Darren Aronofsky'\n",
      " 'John Carney' 'Paul Thomas Anderson' 'Jean-Marc Vallée' 'Ron Howard'\n",
      " 'Danny Boyle' 'Paul Greengrass' 'Rajkumar Hirani' 'Thomas Vinterberg'\n",
      " 'Neill Blomkamp' 'Florian Henckel von Donnersmarck' 'Amber Tamblyn'\n",
      " 'Brad Bird' 'Pete Docter' 'Xavier Dolan' 'Andrew Stanton'\n",
      " 'Gabriele Muccino' 'Damián Szifron' 'Clint Eastwood' 'Edward Zwick'\n",
      " 'Tom Hooper' 'Lee Unkrich' 'Lasse Hallström' 'Denis Villeneuve'\n",
      " 'Juan José Campanella' 'Rajkumar Hirani' 'Dean DeBlois' 'Naoko Yamada'\n",
      " 'Aamir Khan']\n"
     ]
    }
   ],
   "source": [
    "Dircondition = data.Rating>=8\n",
    "Dirfiltered = data.Director[Dircondition].values\n",
    "print('Directors whose movies had ratings of at least 8 are:',Dirfiltered, sep='\\n\\n')"
   ]
  },
  {
   "cell_type": "markdown",
   "metadata": {},
   "source": [
    "####  Find all the movies directed by 'James Gunn', & 'Ridley Scott'."
   ]
  },
  {
   "cell_type": "code",
   "execution_count": 409,
   "metadata": {},
   "outputs": [
    {
     "name": "stdout",
     "output_type": "stream",
     "text": [
      "Movies directed by James Gunn, & Ridley Scott are: \n",
      "\n",
      "['Guardians of the Galaxy' 'Prometheus' 'The Martian' 'Robin Hood'\n",
      " 'American Gangster' 'Exodus: Gods and Kings' 'The Counselor'\n",
      " 'A Good Year' 'Body of Lies' 'Slither' 'Super']\n"
     ]
    }
   ],
   "source": [
    "condition_1 = data['Director']=='James Gunn'\n",
    "condition_2 = data['Director']=='Ridley Scott'\n",
    "James_Ridley_Filtered = data.Title[(condition_1) | (condition_2)].values\n",
    "print('Movies directed by James Gunn, & Ridley Scott are: ',James_Ridley_Filtered, sep='\\n\\n')"
   ]
  },
  {
   "cell_type": "markdown",
   "metadata": {},
   "source": [
    "####  Display all the movies with the ratings between 8 & 9 and also the films with the highest rating."
   ]
  },
  {
   "cell_type": "code",
   "execution_count": 410,
   "metadata": {},
   "outputs": [
    {
     "name": "stdout",
     "output_type": "stream",
     "text": [
      "Movies with ratings between 8 and 9 are: \n",
      "\n",
      "['Guardians of the Galaxy' 'La La Land' 'Hacksaw Ridge' 'Lion'\n",
      " 'Bahubali: The Beginning' 'Interstellar'\n",
      " 'Star Wars: Episode VII - The Force Awakens' 'The Prestige'\n",
      " 'Mad Max: Fury Road' 'Zootopia' 'The Avengers' 'Inglourious Basterds'\n",
      " 'Inception' 'The Wolf of Wall Street' 'Gone Girl' 'Prisoners' 'The Help'\n",
      " 'Kimi no na wa' 'The Departed' '12 Years a Slave'\n",
      " 'Harry Potter and the Deathly Hallows: Part 2' 'Dangal'\n",
      " 'The Dark Knight Rises' 'Whiplash' 'No Country for Old Men'\n",
      " 'Shutter Island' 'Room' 'Django Unchained' 'Ah-ga-ssi'\n",
      " 'Twin Peaks: The Missing Pieces' 'Spotlight' 'Warrior' 'Into the Wild'\n",
      " 'The Imitation Game' \"Pan's Labyrinth\" 'The Grand Budapest Hotel'\n",
      " 'Inside Out' 'The Intouchables' 'There Will Be Blood' 'Rush'\n",
      " 'The Bourne Ultimatum' '3 Idiots' 'Jagten' 'The Lives of Others'\n",
      " 'Paint It Black' 'Up' 'Mommy' 'WALL·E' 'Relatos salvajes' 'Gran Torino'\n",
      " 'Toy Story 3' \"Hachi: A Dog's Tale\" 'Incendies' 'El secreto de sus ojos'\n",
      " 'PK' 'How to Train Your Dragon' 'Koe no katachi' 'Taare Zameen Par']\n"
     ]
    }
   ],
   "source": [
    "HighRatingfilter = data.Title[(8<data['Rating']) & (data['Rating']<9)].values\n",
    "print('Movies with ratings between 8 and 9 are: ',HighRatingfilter,sep='\\n\\n')"
   ]
  },
  {
   "cell_type": "code",
   "execution_count": 411,
   "metadata": {},
   "outputs": [
    {
     "name": "stdout",
     "output_type": "stream",
     "text": [
      "The movie with the highest rating is: \n",
      "\n",
      "['The Dark Knight']\n"
     ]
    }
   ],
   "source": [
    "HighestRatingfilter = data.Title[data['Rating'] == data['Rating'].max()].values\n",
    "print('The movie with the highest rating is: ',HighestRatingfilter, sep = '\\n\\n')"
   ]
  },
  {
   "cell_type": "markdown",
   "metadata": {},
   "source": [
    "####  Find the movies directed by both 'Christopher Nolan' and 'Ridley Scott'"
   ]
  },
  {
   "cell_type": "code",
   "execution_count": 412,
   "metadata": {},
   "outputs": [
    {
     "name": "stdout",
     "output_type": "stream",
     "text": [
      "Movies directed by Christopher Nolan & Ridley Scott are: \n",
      "\n",
      "['Prometheus' 'Interstellar' 'The Dark Knight' 'The Prestige' 'Inception'\n",
      " 'The Martian' 'The Dark Knight Rises' 'Robin Hood' 'American Gangster'\n",
      " 'Exodus: Gods and Kings' 'The Counselor' 'A Good Year' 'Body of Lies']\n"
     ]
    }
   ],
   "source": [
    "condition_one = data['Director']=='Christopher Nolan'\n",
    "condition_2 = data['Director']=='Ridley Scott'\n",
    "Chris_Ridley_Filtered = data.Title[(condition_one) | (condition_2)].values\n",
    "print('Movies directed by Christopher Nolan & Ridley Scott are: ',Chris_Ridley_Filtered, sep='\\n\\n')"
   ]
  },
  {
   "cell_type": "markdown",
   "metadata": {},
   "source": [
    "####  Find all movies that were released between 2006 and 2010, have a rating above 8.0, but made below the 50th percentile in revenue."
   ]
  },
  {
   "cell_type": "code",
   "execution_count": 413,
   "metadata": {},
   "outputs": [
    {
     "name": "stdout",
     "output_type": "stream",
     "text": [
      "Movies that were released between 2006 and 2010, have a rating above 8.0, but made below the 50th percentile in revenue\n",
      "\n",
      "197             Into the Wild\n",
      "299       There Will Be Blood\n",
      "430                  3 Idiots\n",
      "742    El secreto de sus ojos\n",
      "991          Taare Zameen Par\n",
      "Name: Title, dtype: object\n"
     ]
    }
   ],
   "source": [
    "per_50 = data.Revenue_In_Millions.describe()['50%']\n",
    "Filtered = data.Title[(data.Year>2006) & (data.Year<2010) & (data.Rating >8.0) & (data.Revenue_In_Millions<per_50)]\n",
    "print('Movies that were released between 2006 and 2010, have a rating above 8.0, but made below the 50th percentile in revenue',Filtered,sep='\\n\\n')"
   ]
  },
  {
   "cell_type": "markdown",
   "metadata": {},
   "source": [
    "####  Find all movies that were released between 2006 and 2010, have a rating above 8.0, but made below the 25th percentile in revenue."
   ]
  },
  {
   "cell_type": "code",
   "execution_count": 414,
   "metadata": {},
   "outputs": [
    {
     "name": "stdout",
     "output_type": "stream",
     "text": [
      "Movies that were released between 2006 and 2010, have a rating above 8.0, but made below the 25th percentile in revenue\n",
      "\n",
      "430            3 Idiots\n",
      "991    Taare Zameen Par\n",
      "Name: Title, dtype: object\n"
     ]
    }
   ],
   "source": [
    "per_25 = data.Revenue_In_Millions.describe()['25%']\n",
    "Filtered = data.Title[(data.Year>2006) & (data.Year<2010) & (data.Rating >8.0) & (data.Revenue_In_Millions<per_25)]\n",
    "print('Movies that were released between 2006 and 2010, have a rating above 8.0, but made below the 25th percentile in revenue',Filtered,sep='\\n\\n')"
   ]
  },
  {
   "cell_type": "markdown",
   "metadata": {},
   "source": [
    "#### Finally give the feedback for all movies with 'Good' if the movie 'rating' is >= 8 and 'Average' if the movie rating doesn't follow the condition given."
   ]
  },
  {
   "cell_type": "code",
   "execution_count": 415,
   "metadata": {},
   "outputs": [],
   "source": [
    "ge_8_feedback = data[data.Rating.ge(8.0)]\n",
    "lt_8_feedback = data[data.Rating.lt(8.0)]"
   ]
  },
  {
   "cell_type": "code",
   "execution_count": 416,
   "metadata": {
    "scrolled": true
   },
   "outputs": [
    {
     "data": {
      "text/html": [
       "<div>\n",
       "<style scoped>\n",
       "    .dataframe tbody tr th:only-of-type {\n",
       "        vertical-align: middle;\n",
       "    }\n",
       "\n",
       "    .dataframe tbody tr th {\n",
       "        vertical-align: top;\n",
       "    }\n",
       "\n",
       "    .dataframe thead th {\n",
       "        text-align: right;\n",
       "    }\n",
       "</style>\n",
       "<table border=\"1\" class=\"dataframe\">\n",
       "  <thead>\n",
       "    <tr style=\"text-align: right;\">\n",
       "      <th></th>\n",
       "      <th>count</th>\n",
       "      <th>mean</th>\n",
       "      <th>std</th>\n",
       "      <th>min</th>\n",
       "      <th>25%</th>\n",
       "      <th>50%</th>\n",
       "      <th>75%</th>\n",
       "      <th>max</th>\n",
       "    </tr>\n",
       "  </thead>\n",
       "  <tbody>\n",
       "    <tr>\n",
       "      <th>Rank</th>\n",
       "      <td>78.0</td>\n",
       "      <td>283.820513</td>\n",
       "      <td>250.106613</td>\n",
       "      <td>1.00</td>\n",
       "      <td>94.000</td>\n",
       "      <td>179.50</td>\n",
       "      <td>465.7500</td>\n",
       "      <td>992.00</td>\n",
       "    </tr>\n",
       "    <tr>\n",
       "      <th>Year</th>\n",
       "      <td>78.0</td>\n",
       "      <td>2011.705128</td>\n",
       "      <td>3.388709</td>\n",
       "      <td>2006.00</td>\n",
       "      <td>2009.000</td>\n",
       "      <td>2012.00</td>\n",
       "      <td>2015.0000</td>\n",
       "      <td>2016.00</td>\n",
       "    </tr>\n",
       "    <tr>\n",
       "      <th>Runtime_In_Minutes</th>\n",
       "      <td>78.0</td>\n",
       "      <td>128.897436</td>\n",
       "      <td>21.369106</td>\n",
       "      <td>91.00</td>\n",
       "      <td>114.250</td>\n",
       "      <td>127.50</td>\n",
       "      <td>144.0000</td>\n",
       "      <td>180.00</td>\n",
       "    </tr>\n",
       "    <tr>\n",
       "      <th>Rating</th>\n",
       "      <td>78.0</td>\n",
       "      <td>8.201282</td>\n",
       "      <td>0.217120</td>\n",
       "      <td>8.00</td>\n",
       "      <td>8.100</td>\n",
       "      <td>8.10</td>\n",
       "      <td>8.3000</td>\n",
       "      <td>9.00</td>\n",
       "    </tr>\n",
       "    <tr>\n",
       "      <th>Votes</th>\n",
       "      <td>78.0</td>\n",
       "      <td>477216.166667</td>\n",
       "      <td>348901.111431</td>\n",
       "      <td>61.00</td>\n",
       "      <td>227796.250</td>\n",
       "      <td>481807.00</td>\n",
       "      <td>619792.5000</td>\n",
       "      <td>1791916.00</td>\n",
       "    </tr>\n",
       "    <tr>\n",
       "      <th>Revenue_In_Millions</th>\n",
       "      <td>78.0</td>\n",
       "      <td>140.486667</td>\n",
       "      <td>162.667980</td>\n",
       "      <td>0.61</td>\n",
       "      <td>18.805</td>\n",
       "      <td>87.04</td>\n",
       "      <td>186.9025</td>\n",
       "      <td>936.63</td>\n",
       "    </tr>\n",
       "    <tr>\n",
       "      <th>Metascore</th>\n",
       "      <td>78.0</td>\n",
       "      <td>76.884615</td>\n",
       "      <td>11.454008</td>\n",
       "      <td>42.00</td>\n",
       "      <td>69.500</td>\n",
       "      <td>78.50</td>\n",
       "      <td>85.0000</td>\n",
       "      <td>98.00</td>\n",
       "    </tr>\n",
       "  </tbody>\n",
       "</table>\n",
       "</div>"
      ],
      "text/plain": [
       "                     count           mean            std      min         25%  \\\n",
       "Rank                  78.0     283.820513     250.106613     1.00      94.000   \n",
       "Year                  78.0    2011.705128       3.388709  2006.00    2009.000   \n",
       "Runtime_In_Minutes    78.0     128.897436      21.369106    91.00     114.250   \n",
       "Rating                78.0       8.201282       0.217120     8.00       8.100   \n",
       "Votes                 78.0  477216.166667  348901.111431    61.00  227796.250   \n",
       "Revenue_In_Millions   78.0     140.486667     162.667980     0.61      18.805   \n",
       "Metascore             78.0      76.884615      11.454008    42.00      69.500   \n",
       "\n",
       "                           50%          75%         max  \n",
       "Rank                    179.50     465.7500      992.00  \n",
       "Year                   2012.00    2015.0000     2016.00  \n",
       "Runtime_In_Minutes      127.50     144.0000      180.00  \n",
       "Rating                    8.10       8.3000        9.00  \n",
       "Votes                481807.00  619792.5000  1791916.00  \n",
       "Revenue_In_Millions      87.04     186.9025      936.63  \n",
       "Metascore                78.50      85.0000       98.00  "
      ]
     },
     "execution_count": 416,
     "metadata": {},
     "output_type": "execute_result"
    }
   ],
   "source": [
    "ge_8_feedback.describe().T  # Feedback: Good movies"
   ]
  },
  {
   "cell_type": "code",
   "execution_count": 417,
   "metadata": {},
   "outputs": [
    {
     "data": {
      "text/html": [
       "<div>\n",
       "<style scoped>\n",
       "    .dataframe tbody tr th:only-of-type {\n",
       "        vertical-align: middle;\n",
       "    }\n",
       "\n",
       "    .dataframe tbody tr th {\n",
       "        vertical-align: top;\n",
       "    }\n",
       "\n",
       "    .dataframe thead th {\n",
       "        text-align: right;\n",
       "    }\n",
       "</style>\n",
       "<table border=\"1\" class=\"dataframe\">\n",
       "  <thead>\n",
       "    <tr style=\"text-align: right;\">\n",
       "      <th></th>\n",
       "      <th>count</th>\n",
       "      <th>mean</th>\n",
       "      <th>std</th>\n",
       "      <th>min</th>\n",
       "      <th>25%</th>\n",
       "      <th>50%</th>\n",
       "      <th>75%</th>\n",
       "      <th>max</th>\n",
       "    </tr>\n",
       "  </thead>\n",
       "  <tbody>\n",
       "    <tr>\n",
       "      <th>Rank</th>\n",
       "      <td>922.0</td>\n",
       "      <td>518.830803</td>\n",
       "      <td>284.497644</td>\n",
       "      <td>2.0</td>\n",
       "      <td>282.250</td>\n",
       "      <td>524.5</td>\n",
       "      <td>766.50</td>\n",
       "      <td>1000.00</td>\n",
       "    </tr>\n",
       "    <tr>\n",
       "      <th>Year</th>\n",
       "      <td>922.0</td>\n",
       "      <td>2012.874187</td>\n",
       "      <td>3.175197</td>\n",
       "      <td>2006.0</td>\n",
       "      <td>2011.000</td>\n",
       "      <td>2014.0</td>\n",
       "      <td>2016.00</td>\n",
       "      <td>2016.00</td>\n",
       "    </tr>\n",
       "    <tr>\n",
       "      <th>Runtime_In_Minutes</th>\n",
       "      <td>922.0</td>\n",
       "      <td>111.841649</td>\n",
       "      <td>17.970143</td>\n",
       "      <td>66.0</td>\n",
       "      <td>99.000</td>\n",
       "      <td>110.0</td>\n",
       "      <td>122.00</td>\n",
       "      <td>191.00</td>\n",
       "    </tr>\n",
       "    <tr>\n",
       "      <th>Rating</th>\n",
       "      <td>922.0</td>\n",
       "      <td>6.598156</td>\n",
       "      <td>0.874594</td>\n",
       "      <td>1.9</td>\n",
       "      <td>6.100</td>\n",
       "      <td>6.7</td>\n",
       "      <td>7.20</td>\n",
       "      <td>7.90</td>\n",
       "    </tr>\n",
       "    <tr>\n",
       "      <th>Votes</th>\n",
       "      <td>922.0</td>\n",
       "      <td>143801.945770</td>\n",
       "      <td>140681.595283</td>\n",
       "      <td>96.0</td>\n",
       "      <td>33436.000</td>\n",
       "      <td>101075.0</td>\n",
       "      <td>209606.50</td>\n",
       "      <td>935408.00</td>\n",
       "    </tr>\n",
       "    <tr>\n",
       "      <th>Revenue_In_Millions</th>\n",
       "      <td>922.0</td>\n",
       "      <td>78.089892</td>\n",
       "      <td>86.984123</td>\n",
       "      <td>0.0</td>\n",
       "      <td>17.225</td>\n",
       "      <td>58.8</td>\n",
       "      <td>89.62</td>\n",
       "      <td>760.51</td>\n",
       "    </tr>\n",
       "    <tr>\n",
       "      <th>Metascore</th>\n",
       "      <td>922.0</td>\n",
       "      <td>57.471800</td>\n",
       "      <td>16.117032</td>\n",
       "      <td>11.0</td>\n",
       "      <td>46.000</td>\n",
       "      <td>59.0</td>\n",
       "      <td>68.00</td>\n",
       "      <td>100.00</td>\n",
       "    </tr>\n",
       "  </tbody>\n",
       "</table>\n",
       "</div>"
      ],
      "text/plain": [
       "                     count           mean            std     min        25%  \\\n",
       "Rank                 922.0     518.830803     284.497644     2.0    282.250   \n",
       "Year                 922.0    2012.874187       3.175197  2006.0   2011.000   \n",
       "Runtime_In_Minutes   922.0     111.841649      17.970143    66.0     99.000   \n",
       "Rating               922.0       6.598156       0.874594     1.9      6.100   \n",
       "Votes                922.0  143801.945770  140681.595283    96.0  33436.000   \n",
       "Revenue_In_Millions  922.0      78.089892      86.984123     0.0     17.225   \n",
       "Metascore            922.0      57.471800      16.117032    11.0     46.000   \n",
       "\n",
       "                          50%        75%        max  \n",
       "Rank                    524.5     766.50    1000.00  \n",
       "Year                   2014.0    2016.00    2016.00  \n",
       "Runtime_In_Minutes      110.0     122.00     191.00  \n",
       "Rating                    6.7       7.20       7.90  \n",
       "Votes                101075.0  209606.50  935408.00  \n",
       "Revenue_In_Millions      58.8      89.62     760.51  \n",
       "Metascore                59.0      68.00     100.00  "
      ]
     },
     "execution_count": 417,
     "metadata": {},
     "output_type": "execute_result"
    }
   ],
   "source": [
    "lt_8_feedback.describe().transpose()  # Feedback: Average movies"
   ]
  },
  {
   "cell_type": "code",
   "execution_count": null,
   "metadata": {},
   "outputs": [],
   "source": []
  }
 ],
 "metadata": {
  "kernelspec": {
   "display_name": "Python 3",
   "language": "python",
   "name": "python3"
  },
  "language_info": {
   "codemirror_mode": {
    "name": "ipython",
    "version": 3
   },
   "file_extension": ".py",
   "mimetype": "text/x-python",
   "name": "python",
   "nbconvert_exporter": "python",
   "pygments_lexer": "ipython3",
   "version": "3.7.6"
  }
 },
 "nbformat": 4,
 "nbformat_minor": 2
}
