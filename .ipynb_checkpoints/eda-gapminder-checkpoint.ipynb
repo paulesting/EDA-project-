{
 "cells": [
  {
   "cell_type": "markdown",
   "id": "fb7ed179",
   "metadata": {
    "papermill": {
     "duration": 0.020256,
     "end_time": "2022-07-06T06:51:48.766609",
     "exception": false,
     "start_time": "2022-07-06T06:51:48.746353",
     "status": "completed"
    },
    "tags": []
   },
   "source": [
    "# MATPLOTLIB"
   ]
  },
  {
   "cell_type": "markdown",
   "id": "0d601db0",
   "metadata": {
    "papermill": {
     "duration": 0.020359,
     "end_time": "2022-07-06T06:51:48.806273",
     "exception": false,
     "start_time": "2022-07-06T06:51:48.785914",
     "status": "completed"
    },
    "tags": []
   },
   "source": [
    "This notebook covers below mentioned topics of visualization by Matplotlib package\n",
    "\n",
    "* Line plot\n",
    "* Scatter plot\n",
    "* Histograms\n",
    "* Scale Transformation\n",
    "* Labels/Ticks/Sizes/Colors"
   ]
  },
  {
   "cell_type": "markdown",
   "id": "3d02d8f6",
   "metadata": {
    "papermill": {
     "duration": 0.019089,
     "end_time": "2022-07-06T06:51:48.845065",
     "exception": false,
     "start_time": "2022-07-06T06:51:48.825976",
     "status": "completed"
    },
    "tags": []
   },
   "source": [
    "## Line Plot"
   ]
  },
  {
   "cell_type": "markdown",
   "id": "f28f6ca5",
   "metadata": {
    "papermill": {
     "duration": 0.018814,
     "end_time": "2022-07-06T06:51:48.883169",
     "exception": false,
     "start_time": "2022-07-06T06:51:48.864355",
     "status": "completed"
    },
    "tags": []
   },
   "source": [
    "With matplotlib, you can create a bunch of different plots in Python. The most basic plot is the line plot. A general recipe is given here.\n",
    "\n",
    "```python\n",
    "import matplotlib.pyplot as plt\n",
    "plt.plot(x,y)\n",
    "plt.show()\n",
    "```\n",
    "\n",
    "In the video, you already saw how much the world population has grown over the past years. Will it continue to do so? The world bank has collected the world population for the years 1964 up to 2013. Let's see trend of world population"
   ]
  },
  {
   "cell_type": "code",
   "execution_count": 4,
   "id": "c1dbb288",
   "metadata": {
    "execution": {
     "iopub.execute_input": "2022-07-06T06:51:48.925284Z",
     "iopub.status.busy": "2022-07-06T06:51:48.924563Z",
     "iopub.status.idle": "2022-07-06T06:51:48.940661Z",
     "shell.execute_reply": "2022-07-06T06:51:48.939669Z"
    },
    "papermill": {
     "duration": 0.041538,
     "end_time": "2022-07-06T06:51:48.943914",
     "exception": false,
     "start_time": "2022-07-06T06:51:48.902376",
     "status": "completed"
    },
    "tags": []
   },
   "outputs": [],
   "source": [
    "#loading required packages\n",
    "import pandas as pd\n",
    "import matplotlib.pyplot as plt"
   ]
  },
  {
   "cell_type": "markdown",
   "id": "b893feca",
   "metadata": {
    "papermill": {
     "duration": 0.018851,
     "end_time": "2022-07-06T06:51:48.982000",
     "exception": false,
     "start_time": "2022-07-06T06:51:48.963149",
     "status": "completed"
    },
    "tags": []
   },
   "source": [
    "Read CSV file from system and It is imporatant to make a copy of data first. as in future if we corrupt the df by accident then we must have a copy to read data. "
   ]
  },
  {
   "cell_type": "code",
   "execution_count": 5,
   "id": "5f97cb5e",
   "metadata": {
    "execution": {
     "iopub.execute_input": "2022-07-06T06:51:49.023913Z",
     "iopub.status.busy": "2022-07-06T06:51:49.022728Z",
     "iopub.status.idle": "2022-07-06T06:51:49.084901Z",
     "shell.execute_reply": "2022-07-06T06:51:49.083687Z"
    },
    "papermill": {
     "duration": 0.085985,
     "end_time": "2022-07-06T06:51:49.087406",
     "exception": false,
     "start_time": "2022-07-06T06:51:49.001421",
     "status": "completed"
    },
    "tags": []
   },
   "outputs": [
    {
     "data": {
      "text/html": [
       "<div>\n",
       "<style scoped>\n",
       "    .dataframe tbody tr th:only-of-type {\n",
       "        vertical-align: middle;\n",
       "    }\n",
       "\n",
       "    .dataframe tbody tr th {\n",
       "        vertical-align: top;\n",
       "    }\n",
       "\n",
       "    .dataframe thead th {\n",
       "        text-align: right;\n",
       "    }\n",
       "</style>\n",
       "<table border=\"1\" class=\"dataframe\">\n",
       "  <thead>\n",
       "    <tr style=\"text-align: right;\">\n",
       "      <th></th>\n",
       "      <th>Country</th>\n",
       "      <th>Year</th>\n",
       "      <th>fertility</th>\n",
       "      <th>life</th>\n",
       "      <th>population</th>\n",
       "      <th>child_mortality</th>\n",
       "      <th>gdp</th>\n",
       "      <th>region</th>\n",
       "    </tr>\n",
       "  </thead>\n",
       "  <tbody>\n",
       "    <tr>\n",
       "      <th>0</th>\n",
       "      <td>Afghanistan</td>\n",
       "      <td>1964</td>\n",
       "      <td>7.671</td>\n",
       "      <td>33.639</td>\n",
       "      <td>10474903.0</td>\n",
       "      <td>339.7</td>\n",
       "      <td>1182.0</td>\n",
       "      <td>South Asia</td>\n",
       "    </tr>\n",
       "    <tr>\n",
       "      <th>1</th>\n",
       "      <td>Afghanistan</td>\n",
       "      <td>1965</td>\n",
       "      <td>7.671</td>\n",
       "      <td>34.152</td>\n",
       "      <td>10697983.0</td>\n",
       "      <td>334.1</td>\n",
       "      <td>1182.0</td>\n",
       "      <td>South Asia</td>\n",
       "    </tr>\n",
       "    <tr>\n",
       "      <th>2</th>\n",
       "      <td>Afghanistan</td>\n",
       "      <td>1966</td>\n",
       "      <td>7.671</td>\n",
       "      <td>34.662</td>\n",
       "      <td>10927724.0</td>\n",
       "      <td>328.7</td>\n",
       "      <td>1168.0</td>\n",
       "      <td>South Asia</td>\n",
       "    </tr>\n",
       "    <tr>\n",
       "      <th>3</th>\n",
       "      <td>Afghanistan</td>\n",
       "      <td>1967</td>\n",
       "      <td>7.671</td>\n",
       "      <td>35.170</td>\n",
       "      <td>11163656.0</td>\n",
       "      <td>323.3</td>\n",
       "      <td>1173.0</td>\n",
       "      <td>South Asia</td>\n",
       "    </tr>\n",
       "    <tr>\n",
       "      <th>4</th>\n",
       "      <td>Afghanistan</td>\n",
       "      <td>1968</td>\n",
       "      <td>7.671</td>\n",
       "      <td>35.674</td>\n",
       "      <td>11411022.0</td>\n",
       "      <td>318.1</td>\n",
       "      <td>1187.0</td>\n",
       "      <td>South Asia</td>\n",
       "    </tr>\n",
       "  </tbody>\n",
       "</table>\n",
       "</div>"
      ],
      "text/plain": [
       "       Country  Year  fertility    life  population  child_mortality     gdp  \\\n",
       "0  Afghanistan  1964      7.671  33.639  10474903.0            339.7  1182.0   \n",
       "1  Afghanistan  1965      7.671  34.152  10697983.0            334.1  1182.0   \n",
       "2  Afghanistan  1966      7.671  34.662  10927724.0            328.7  1168.0   \n",
       "3  Afghanistan  1967      7.671  35.170  11163656.0            323.3  1173.0   \n",
       "4  Afghanistan  1968      7.671  35.674  11411022.0            318.1  1187.0   \n",
       "\n",
       "       region  \n",
       "0  South Asia  \n",
       "1  South Asia  \n",
       "2  South Asia  \n",
       "3  South Asia  \n",
       "4  South Asia  "
      ]
     },
     "execution_count": 5,
     "metadata": {},
     "output_type": "execute_result"
    }
   ],
   "source": [
    "# loading dataset\n",
    "data=pd.read_csv('./gapminder/gapminder_tidy.csv')\n",
    "df=data.copy()\n",
    "df.head()"
   ]
  },
  {
   "cell_type": "markdown",
   "id": "9f847b85",
   "metadata": {
    "papermill": {
     "duration": 0.01966,
     "end_time": "2022-07-06T06:51:49.126932",
     "exception": false,
     "start_time": "2022-07-06T06:51:49.107272",
     "status": "completed"
    },
    "tags": []
   },
   "source": [
    "Check the first 5 rows"
   ]
  },
  {
   "cell_type": "code",
   "execution_count": 6,
   "id": "43da33fa",
   "metadata": {
    "execution": {
     "iopub.execute_input": "2022-07-06T06:51:49.167905Z",
     "iopub.status.busy": "2022-07-06T06:51:49.167439Z",
     "iopub.status.idle": "2022-07-06T06:51:49.184245Z",
     "shell.execute_reply": "2022-07-06T06:51:49.183242Z"
    },
    "papermill": {
     "duration": 0.040168,
     "end_time": "2022-07-06T06:51:49.186523",
     "exception": false,
     "start_time": "2022-07-06T06:51:49.146355",
     "status": "completed"
    },
    "tags": []
   },
   "outputs": [
    {
     "data": {
      "text/html": [
       "<div>\n",
       "<style scoped>\n",
       "    .dataframe tbody tr th:only-of-type {\n",
       "        vertical-align: middle;\n",
       "    }\n",
       "\n",
       "    .dataframe tbody tr th {\n",
       "        vertical-align: top;\n",
       "    }\n",
       "\n",
       "    .dataframe thead th {\n",
       "        text-align: right;\n",
       "    }\n",
       "</style>\n",
       "<table border=\"1\" class=\"dataframe\">\n",
       "  <thead>\n",
       "    <tr style=\"text-align: right;\">\n",
       "      <th></th>\n",
       "      <th>Country</th>\n",
       "      <th>Year</th>\n",
       "      <th>fertility</th>\n",
       "      <th>life</th>\n",
       "      <th>population</th>\n",
       "      <th>child_mortality</th>\n",
       "      <th>gdp</th>\n",
       "      <th>region</th>\n",
       "    </tr>\n",
       "  </thead>\n",
       "  <tbody>\n",
       "    <tr>\n",
       "      <th>0</th>\n",
       "      <td>Afghanistan</td>\n",
       "      <td>1964</td>\n",
       "      <td>7.671</td>\n",
       "      <td>33.639</td>\n",
       "      <td>10474903.0</td>\n",
       "      <td>339.7</td>\n",
       "      <td>1182.0</td>\n",
       "      <td>South Asia</td>\n",
       "    </tr>\n",
       "    <tr>\n",
       "      <th>1</th>\n",
       "      <td>Afghanistan</td>\n",
       "      <td>1965</td>\n",
       "      <td>7.671</td>\n",
       "      <td>34.152</td>\n",
       "      <td>10697983.0</td>\n",
       "      <td>334.1</td>\n",
       "      <td>1182.0</td>\n",
       "      <td>South Asia</td>\n",
       "    </tr>\n",
       "    <tr>\n",
       "      <th>2</th>\n",
       "      <td>Afghanistan</td>\n",
       "      <td>1966</td>\n",
       "      <td>7.671</td>\n",
       "      <td>34.662</td>\n",
       "      <td>10927724.0</td>\n",
       "      <td>328.7</td>\n",
       "      <td>1168.0</td>\n",
       "      <td>South Asia</td>\n",
       "    </tr>\n",
       "    <tr>\n",
       "      <th>3</th>\n",
       "      <td>Afghanistan</td>\n",
       "      <td>1967</td>\n",
       "      <td>7.671</td>\n",
       "      <td>35.170</td>\n",
       "      <td>11163656.0</td>\n",
       "      <td>323.3</td>\n",
       "      <td>1173.0</td>\n",
       "      <td>South Asia</td>\n",
       "    </tr>\n",
       "    <tr>\n",
       "      <th>4</th>\n",
       "      <td>Afghanistan</td>\n",
       "      <td>1968</td>\n",
       "      <td>7.671</td>\n",
       "      <td>35.674</td>\n",
       "      <td>11411022.0</td>\n",
       "      <td>318.1</td>\n",
       "      <td>1187.0</td>\n",
       "      <td>South Asia</td>\n",
       "    </tr>\n",
       "  </tbody>\n",
       "</table>\n",
       "</div>"
      ],
      "text/plain": [
       "       Country  Year  fertility    life  population  child_mortality     gdp  \\\n",
       "0  Afghanistan  1964      7.671  33.639  10474903.0            339.7  1182.0   \n",
       "1  Afghanistan  1965      7.671  34.152  10697983.0            334.1  1182.0   \n",
       "2  Afghanistan  1966      7.671  34.662  10927724.0            328.7  1168.0   \n",
       "3  Afghanistan  1967      7.671  35.170  11163656.0            323.3  1173.0   \n",
       "4  Afghanistan  1968      7.671  35.674  11411022.0            318.1  1187.0   \n",
       "\n",
       "       region  \n",
       "0  South Asia  \n",
       "1  South Asia  \n",
       "2  South Asia  \n",
       "3  South Asia  \n",
       "4  South Asia  "
      ]
     },
     "execution_count": 6,
     "metadata": {},
     "output_type": "execute_result"
    }
   ],
   "source": [
    "df.head()"
   ]
  },
  {
   "cell_type": "markdown",
   "id": "1a11d19f",
   "metadata": {
    "papermill": {
     "duration": 0.019231,
     "end_time": "2022-07-06T06:51:49.225365",
     "exception": false,
     "start_time": "2022-07-06T06:51:49.206134",
     "status": "completed"
    },
    "tags": []
   },
   "source": [
    "Display all column names "
   ]
  },
  {
   "cell_type": "code",
   "execution_count": 7,
   "id": "7fc4faa7",
   "metadata": {
    "execution": {
     "iopub.execute_input": "2022-07-06T06:51:49.268731Z",
     "iopub.status.busy": "2022-07-06T06:51:49.267943Z",
     "iopub.status.idle": "2022-07-06T06:51:49.275353Z",
     "shell.execute_reply": "2022-07-06T06:51:49.274233Z"
    },
    "papermill": {
     "duration": 0.03314,
     "end_time": "2022-07-06T06:51:49.278202",
     "exception": false,
     "start_time": "2022-07-06T06:51:49.245062",
     "status": "completed"
    },
    "tags": []
   },
   "outputs": [
    {
     "data": {
      "text/plain": [
       "Index(['Country', 'Year', 'fertility', 'life', 'population', 'child_mortality',\n",
       "       'gdp', 'region'],\n",
       "      dtype='object')"
      ]
     },
     "execution_count": 7,
     "metadata": {},
     "output_type": "execute_result"
    }
   ],
   "source": [
    "df.columns"
   ]
  },
  {
   "cell_type": "code",
   "execution_count": 8,
   "id": "0ff62ecd",
   "metadata": {
    "execution": {
     "iopub.execute_input": "2022-07-06T06:51:49.319978Z",
     "iopub.status.busy": "2022-07-06T06:51:49.319531Z",
     "iopub.status.idle": "2022-07-06T06:51:49.326400Z",
     "shell.execute_reply": "2022-07-06T06:51:49.325253Z"
    },
    "papermill": {
     "duration": 0.030734,
     "end_time": "2022-07-06T06:51:49.328834",
     "exception": false,
     "start_time": "2022-07-06T06:51:49.298100",
     "status": "completed"
    },
    "tags": []
   },
   "outputs": [
    {
     "data": {
      "text/plain": [
       "(10111, 8)"
      ]
     },
     "execution_count": 8,
     "metadata": {},
     "output_type": "execute_result"
    }
   ],
   "source": [
    "df.shape"
   ]
  },
  {
   "cell_type": "code",
   "execution_count": 9,
   "id": "b5cc2081",
   "metadata": {
    "execution": {
     "iopub.execute_input": "2022-07-06T06:51:49.371400Z",
     "iopub.status.busy": "2022-07-06T06:51:49.371003Z",
     "iopub.status.idle": "2022-07-06T06:51:49.389494Z",
     "shell.execute_reply": "2022-07-06T06:51:49.388314Z"
    },
    "papermill": {
     "duration": 0.042413,
     "end_time": "2022-07-06T06:51:49.392071",
     "exception": false,
     "start_time": "2022-07-06T06:51:49.349658",
     "status": "completed"
    },
    "scrolled": true,
    "tags": []
   },
   "outputs": [
    {
     "data": {
      "text/html": [
       "<div>\n",
       "<style scoped>\n",
       "    .dataframe tbody tr th:only-of-type {\n",
       "        vertical-align: middle;\n",
       "    }\n",
       "\n",
       "    .dataframe tbody tr th {\n",
       "        vertical-align: top;\n",
       "    }\n",
       "\n",
       "    .dataframe thead th {\n",
       "        text-align: right;\n",
       "    }\n",
       "</style>\n",
       "<table border=\"1\" class=\"dataframe\">\n",
       "  <thead>\n",
       "    <tr style=\"text-align: right;\">\n",
       "      <th></th>\n",
       "      <th>country</th>\n",
       "      <th>year</th>\n",
       "      <th>fertility</th>\n",
       "      <th>life_exp</th>\n",
       "      <th>pop</th>\n",
       "      <th>child_mortality</th>\n",
       "      <th>gdp</th>\n",
       "      <th>region</th>\n",
       "    </tr>\n",
       "  </thead>\n",
       "  <tbody>\n",
       "    <tr>\n",
       "      <th>0</th>\n",
       "      <td>Afghanistan</td>\n",
       "      <td>1964</td>\n",
       "      <td>7.671</td>\n",
       "      <td>33.639</td>\n",
       "      <td>10474903.0</td>\n",
       "      <td>339.7</td>\n",
       "      <td>1182.0</td>\n",
       "      <td>South Asia</td>\n",
       "    </tr>\n",
       "    <tr>\n",
       "      <th>1</th>\n",
       "      <td>Afghanistan</td>\n",
       "      <td>1965</td>\n",
       "      <td>7.671</td>\n",
       "      <td>34.152</td>\n",
       "      <td>10697983.0</td>\n",
       "      <td>334.1</td>\n",
       "      <td>1182.0</td>\n",
       "      <td>South Asia</td>\n",
       "    </tr>\n",
       "    <tr>\n",
       "      <th>2</th>\n",
       "      <td>Afghanistan</td>\n",
       "      <td>1966</td>\n",
       "      <td>7.671</td>\n",
       "      <td>34.662</td>\n",
       "      <td>10927724.0</td>\n",
       "      <td>328.7</td>\n",
       "      <td>1168.0</td>\n",
       "      <td>South Asia</td>\n",
       "    </tr>\n",
       "    <tr>\n",
       "      <th>3</th>\n",
       "      <td>Afghanistan</td>\n",
       "      <td>1967</td>\n",
       "      <td>7.671</td>\n",
       "      <td>35.170</td>\n",
       "      <td>11163656.0</td>\n",
       "      <td>323.3</td>\n",
       "      <td>1173.0</td>\n",
       "      <td>South Asia</td>\n",
       "    </tr>\n",
       "    <tr>\n",
       "      <th>4</th>\n",
       "      <td>Afghanistan</td>\n",
       "      <td>1968</td>\n",
       "      <td>7.671</td>\n",
       "      <td>35.674</td>\n",
       "      <td>11411022.0</td>\n",
       "      <td>318.1</td>\n",
       "      <td>1187.0</td>\n",
       "      <td>South Asia</td>\n",
       "    </tr>\n",
       "  </tbody>\n",
       "</table>\n",
       "</div>"
      ],
      "text/plain": [
       "       country  year  fertility  life_exp         pop  child_mortality  \\\n",
       "0  Afghanistan  1964      7.671    33.639  10474903.0            339.7   \n",
       "1  Afghanistan  1965      7.671    34.152  10697983.0            334.1   \n",
       "2  Afghanistan  1966      7.671    34.662  10927724.0            328.7   \n",
       "3  Afghanistan  1967      7.671    35.170  11163656.0            323.3   \n",
       "4  Afghanistan  1968      7.671    35.674  11411022.0            318.1   \n",
       "\n",
       "      gdp      region  \n",
       "0  1182.0  South Asia  \n",
       "1  1182.0  South Asia  \n",
       "2  1168.0  South Asia  \n",
       "3  1173.0  South Asia  \n",
       "4  1187.0  South Asia  "
      ]
     },
     "execution_count": 9,
     "metadata": {},
     "output_type": "execute_result"
    }
   ],
   "source": [
    "#changing columns names\n",
    "df.columns = ['country', 'year', 'fertility', 'life_exp', 'pop', 'child_mortality','gdp', 'region']\n",
    "df.head()"
   ]
  },
  {
   "cell_type": "markdown",
   "id": "efc9393c",
   "metadata": {
    "papermill": {
     "duration": 0.019699,
     "end_time": "2022-07-06T06:51:49.431741",
     "exception": false,
     "start_time": "2022-07-06T06:51:49.412042",
     "status": "completed"
    },
    "tags": []
   },
   "source": [
    "Group of dataframe on column **year** and then sum of this group on **pop** with reset_index() and assign to **df_popworld**"
   ]
  },
  {
   "cell_type": "code",
   "execution_count": 10,
   "id": "d85072fa",
   "metadata": {
    "execution": {
     "iopub.execute_input": "2022-07-06T06:51:49.474723Z",
     "iopub.status.busy": "2022-07-06T06:51:49.473426Z",
     "iopub.status.idle": "2022-07-06T06:51:49.500659Z",
     "shell.execute_reply": "2022-07-06T06:51:49.499331Z"
    },
    "papermill": {
     "duration": 0.051194,
     "end_time": "2022-07-06T06:51:49.503233",
     "exception": false,
     "start_time": "2022-07-06T06:51:49.452039",
     "status": "completed"
    },
    "tags": []
   },
   "outputs": [
    {
     "data": {
      "text/html": [
       "<div>\n",
       "<style scoped>\n",
       "    .dataframe tbody tr th:only-of-type {\n",
       "        vertical-align: middle;\n",
       "    }\n",
       "\n",
       "    .dataframe tbody tr th {\n",
       "        vertical-align: top;\n",
       "    }\n",
       "\n",
       "    .dataframe thead th {\n",
       "        text-align: right;\n",
       "    }\n",
       "</style>\n",
       "<table border=\"1\" class=\"dataframe\">\n",
       "  <thead>\n",
       "    <tr style=\"text-align: right;\">\n",
       "      <th></th>\n",
       "      <th>year</th>\n",
       "      <th>pop</th>\n",
       "    </tr>\n",
       "  </thead>\n",
       "  <tbody>\n",
       "    <tr>\n",
       "      <th>0</th>\n",
       "      <td>1964</td>\n",
       "      <td>3.268989e+09</td>\n",
       "    </tr>\n",
       "    <tr>\n",
       "      <th>1</th>\n",
       "      <td>1965</td>\n",
       "      <td>3.333022e+09</td>\n",
       "    </tr>\n",
       "    <tr>\n",
       "      <th>2</th>\n",
       "      <td>1966</td>\n",
       "      <td>3.400742e+09</td>\n",
       "    </tr>\n",
       "    <tr>\n",
       "      <th>3</th>\n",
       "      <td>1967</td>\n",
       "      <td>3.471753e+09</td>\n",
       "    </tr>\n",
       "    <tr>\n",
       "      <th>4</th>\n",
       "      <td>1968</td>\n",
       "      <td>3.545277e+09</td>\n",
       "    </tr>\n",
       "  </tbody>\n",
       "</table>\n",
       "</div>"
      ],
      "text/plain": [
       "   year           pop\n",
       "0  1964  3.268989e+09\n",
       "1  1965  3.333022e+09\n",
       "2  1966  3.400742e+09\n",
       "3  1967  3.471753e+09\n",
       "4  1968  3.545277e+09"
      ]
     },
     "execution_count": 10,
     "metadata": {},
     "output_type": "execute_result"
    }
   ],
   "source": [
    "# Aggregating population on year\n",
    "df_popworld=df.groupby(['year'])['pop'].sum().reset_index()\n",
    "df_popworld.head()"
   ]
  },
  {
   "cell_type": "code",
   "execution_count": 11,
   "id": "8a744d0d",
   "metadata": {
    "execution": {
     "iopub.execute_input": "2022-07-06T06:51:49.546806Z",
     "iopub.status.busy": "2022-07-06T06:51:49.546128Z",
     "iopub.status.idle": "2022-07-06T06:51:49.560567Z",
     "shell.execute_reply": "2022-07-06T06:51:49.559228Z"
    },
    "papermill": {
     "duration": 0.039417,
     "end_time": "2022-07-06T06:51:49.563311",
     "exception": false,
     "start_time": "2022-07-06T06:51:49.523894",
     "status": "completed"
    },
    "tags": []
   },
   "outputs": [
    {
     "data": {
      "text/html": [
       "<div>\n",
       "<style scoped>\n",
       "    .dataframe tbody tr th:only-of-type {\n",
       "        vertical-align: middle;\n",
       "    }\n",
       "\n",
       "    .dataframe tbody tr th {\n",
       "        vertical-align: top;\n",
       "    }\n",
       "\n",
       "    .dataframe thead th {\n",
       "        text-align: right;\n",
       "    }\n",
       "</style>\n",
       "<table border=\"1\" class=\"dataframe\">\n",
       "  <thead>\n",
       "    <tr style=\"text-align: right;\">\n",
       "      <th></th>\n",
       "      <th>region</th>\n",
       "      <th>gdp</th>\n",
       "    </tr>\n",
       "  </thead>\n",
       "  <tbody>\n",
       "    <tr>\n",
       "      <th>0</th>\n",
       "      <td>America</td>\n",
       "      <td>18559875.0</td>\n",
       "    </tr>\n",
       "    <tr>\n",
       "      <th>1</th>\n",
       "      <td>East Asia &amp; Pacific</td>\n",
       "      <td>17337004.0</td>\n",
       "    </tr>\n",
       "    <tr>\n",
       "      <th>2</th>\n",
       "      <td>Europe &amp; Central Asia</td>\n",
       "      <td>44260909.0</td>\n",
       "    </tr>\n",
       "    <tr>\n",
       "      <th>3</th>\n",
       "      <td>Middle East &amp; North Africa</td>\n",
       "      <td>26135195.0</td>\n",
       "    </tr>\n",
       "    <tr>\n",
       "      <th>4</th>\n",
       "      <td>South Asia</td>\n",
       "      <td>1021060.0</td>\n",
       "    </tr>\n",
       "  </tbody>\n",
       "</table>\n",
       "</div>"
      ],
      "text/plain": [
       "                       region         gdp\n",
       "0                     America  18559875.0\n",
       "1         East Asia & Pacific  17337004.0\n",
       "2       Europe & Central Asia  44260909.0\n",
       "3  Middle East & North Africa  26135195.0\n",
       "4                  South Asia   1021060.0"
      ]
     },
     "execution_count": 11,
     "metadata": {},
     "output_type": "execute_result"
    }
   ],
   "source": [
    "df_gdpregion=df.groupby(['region'])['gdp'].sum().reset_index()\n",
    "df_gdpregion.head()"
   ]
  },
  {
   "cell_type": "code",
   "execution_count": 12,
   "id": "a786adfe",
   "metadata": {
    "execution": {
     "iopub.execute_input": "2022-07-06T06:51:49.607982Z",
     "iopub.status.busy": "2022-07-06T06:51:49.607507Z",
     "iopub.status.idle": "2022-07-06T06:51:49.836123Z",
     "shell.execute_reply": "2022-07-06T06:51:49.834856Z"
    },
    "papermill": {
     "duration": 0.254846,
     "end_time": "2022-07-06T06:51:49.838965",
     "exception": false,
     "start_time": "2022-07-06T06:51:49.584119",
     "status": "completed"
    },
    "scrolled": true,
    "tags": []
   },
   "outputs": [
    {
     "data": {
      "image/png": "[encoded data removed]",
      "text/plain": [
       "<Figure size 432x288 with 1 Axes>"
      ]
     },
     "metadata": {
      "needs_background": "light"
     },
     "output_type": "display_data"
    }
   ],
   "source": [
    "# Make a line plot: year on the x-axis, pop on the y-axis\n",
    "year=df_popworld['year']\n",
    "pop=df_popworld['pop']\n",
    "plt.plot(year,pop)\n",
    "\n",
    "# Display the plot with plt.show() IT HELPS IN FLUSHING THE MEMORY\n",
    "plt.show()"
   ]
  },
  {
   "cell_type": "markdown",
   "id": "0ae517c1",
   "metadata": {
    "papermill": {
     "duration": 0.020807,
     "end_time": "2022-07-06T06:51:49.881892",
     "exception": false,
     "start_time": "2022-07-06T06:51:49.861085",
     "status": "completed"
    },
    "tags": []
   },
   "source": [
    "Now that you've built your first line plot, let's start working on the data that professor Hans Rosling used to build his beautiful bubble chart. It was collected in 2007. Two lists are available for you:\n",
    "\n",
    "* <mark>life_exp</mark> which contains the life expectancy for each country and\n",
    "* <mark>gdp</mark>, which contains the GDP per capita (i.e. per person) for each country expressed in US Dollars.\n",
    "\n",
    "GDP stands for Gross Domestic Product. It basically represents the size of the economy of a country. Let's see how life_exp and gdp_cap seems like."
   ]
  },
  {
   "cell_type": "code",
   "execution_count": 13,
   "id": "7d8014b8",
   "metadata": {
    "execution": {
     "iopub.execute_input": "2022-07-06T06:51:49.934897Z",
     "iopub.status.busy": "2022-07-06T06:51:49.934472Z",
     "iopub.status.idle": "2022-07-06T06:51:50.144123Z",
     "shell.execute_reply": "2022-07-06T06:51:50.142693Z"
    },
    "papermill": {
     "duration": 0.239742,
     "end_time": "2022-07-06T06:51:50.147011",
     "exception": false,
     "start_time": "2022-07-06T06:51:49.907269",
     "status": "completed"
    },
    "tags": []
   },
   "outputs": [
    {
     "data": {
      "image/png": "[encoded data removed]",
      "text/plain": [
       "<Figure size 432x288 with 1 Axes>"
      ]
     },
     "metadata": {
      "needs_background": "light"
     },
     "output_type": "display_data"
    }
   ],
   "source": [
    "# Make a line plot, gdp_cap on the x-axis, life_exp on the y-axis\n",
    "plt.plot(df['gdp'],df['life_exp'])\n",
    "plt.show()"
   ]
  },
  {
   "cell_type": "markdown",
   "id": "c5d8a8ed",
   "metadata": {
    "papermill": {
     "duration": 0.021695,
     "end_time": "2022-07-06T06:51:50.190637",
     "exception": false,
     "start_time": "2022-07-06T06:51:50.168942",
     "status": "completed"
    },
    "tags": []
   },
   "source": [
    "## Scatter Plot"
   ]
  },
  {
   "cell_type": "markdown",
   "id": "5c5e0cdb",
   "metadata": {
    "papermill": {
     "duration": 0.02139,
     "end_time": "2022-07-06T06:51:50.233979",
     "exception": false,
     "start_time": "2022-07-06T06:51:50.212589",
     "status": "completed"
    },
    "tags": []
   },
   "source": [
    "When you have a time scale along the horizontal axis, the line plot is your friend. But in many other cases, when you're trying to assess if there's a correlation between two variables, for example, the scatter plot is the better choice. Below is an example of how to build a scatter plot.\n",
    "\n",
    "```python\n",
    "import matplotlib.pyplot as plt\n",
    "plt.scatter(x,y)\n",
    "plt.show()\n",
    "```\n",
    "Let's continue with the gdp_cap versus life_exp plot, the GDP and life expectancy data for Zimbabwe. Maybe a scatter plot will be a better alternative?"
   ]
  },
  {
   "cell_type": "code",
   "execution_count": 14,
   "id": "112e65e1",
   "metadata": {
    "execution": {
     "iopub.execute_input": "2022-07-06T06:51:50.279209Z",
     "iopub.status.busy": "2022-07-06T06:51:50.278314Z",
     "iopub.status.idle": "2022-07-06T06:51:50.525524Z",
     "shell.execute_reply": "2022-07-06T06:51:50.524473Z"
    },
    "papermill": {
     "duration": 0.272627,
     "end_time": "2022-07-06T06:51:50.528003",
     "exception": false,
     "start_time": "2022-07-06T06:51:50.255376",
     "status": "completed"
    },
    "scrolled": true,
    "tags": []
   },
   "outputs": [
    {
     "data": {
      "image/png": "[encoded data removed]",
      "text/plain": [
       "<Figure size 432x288 with 1 Axes>"
      ]
     },
     "metadata": {
      "needs_background": "light"
     },
     "output_type": "display_data"
    }
   ],
   "source": [
    "# Make a scatter plot, gdp_cap on the x-axis, life_exp on the y-axis\n",
    "plt.scatter(df['gdp'],df['life_exp'])\n",
    "plt.show()"
   ]
  },
  {
   "cell_type": "markdown",
   "id": "2d5620cd",
   "metadata": {
    "papermill": {
     "duration": 0.021455,
     "end_time": "2022-07-06T06:51:50.572223",
     "exception": false,
     "start_time": "2022-07-06T06:51:50.550768",
     "status": "completed"
    },
    "tags": []
   },
   "source": [
    "Are you able to get some insights out of this scatter plot? Nope, right?\n",
    "\n",
    "Let's transform GDP on x-axis to logarithmic scale!"
   ]
  },
  {
   "cell_type": "code",
   "execution_count": 15,
   "id": "b371c6b7",
   "metadata": {
    "execution": {
     "iopub.execute_input": "2022-07-06T06:51:50.619945Z",
     "iopub.status.busy": "2022-07-06T06:51:50.619502Z",
     "iopub.status.idle": "2022-07-06T06:51:51.410280Z",
     "shell.execute_reply": "2022-07-06T06:51:51.408045Z"
    },
    "papermill": {
     "duration": 0.819892,
     "end_time": "2022-07-06T06:51:51.413913",
     "exception": false,
     "start_time": "2022-07-06T06:51:50.594021",
     "status": "completed"
    },
    "tags": []
   },
   "outputs": [
    {
     "data": {
      "image/png": "[encoded data removed]",
      "text/plain": [
       "<Figure size 432x288 with 1 Axes>"
      ]
     },
     "metadata": {
      "needs_background": "light"
     },
     "output_type": "display_data"
    }
   ],
   "source": [
    "# Put the x-axis on a logarithmic scale\n",
    "plt.scatter(df['gdp'],df['life_exp'])\n",
    "plt.xscale('log')\n",
    "plt.show()"
   ]
  },
  {
   "cell_type": "markdown",
   "id": "63fda83a",
   "metadata": {
    "papermill": {
     "duration": 0.023943,
     "end_time": "2022-07-06T06:51:51.463358",
     "exception": false,
     "start_time": "2022-07-06T06:51:51.439415",
     "status": "completed"
    },
    "tags": []
   },
   "source": [
    "In the previous exercise, you saw that that the higher GDP usually corresponds to a higher life expectancy. In other words, there is a positive correlation.\n",
    "\n",
    "Do you think there's a relationship between population and life expectancy of a country in 2011?"
   ]
  },
  {
   "cell_type": "code",
   "execution_count": 16,
   "id": "8511bda4",
   "metadata": {
    "execution": {
     "iopub.execute_input": "2022-07-06T06:51:51.516176Z",
     "iopub.status.busy": "2022-07-06T06:51:51.515394Z",
     "iopub.status.idle": "2022-07-06T06:51:51.523426Z",
     "shell.execute_reply": "2022-07-06T06:51:51.522224Z"
    },
    "papermill": {
     "duration": 0.036762,
     "end_time": "2022-07-06T06:51:51.525968",
     "exception": false,
     "start_time": "2022-07-06T06:51:51.489206",
     "status": "completed"
    },
    "tags": []
   },
   "outputs": [],
   "source": [
    "df_2011 = df[df['year']==2011]"
   ]
  },
  {
   "cell_type": "markdown",
   "id": "ae17f22c",
   "metadata": {
    "papermill": {
     "duration": 0.022091,
     "end_time": "2022-07-06T06:51:51.570336",
     "exception": false,
     "start_time": "2022-07-06T06:51:51.548245",
     "status": "completed"
    },
    "tags": []
   },
   "source": [
    "Make a scatter plot on **pop** and **life_exp** of **df_2011**"
   ]
  },
  {
   "cell_type": "code",
   "execution_count": 17,
   "id": "b9ca57a0",
   "metadata": {
    "execution": {
     "iopub.execute_input": "2022-07-06T06:51:51.621805Z",
     "iopub.status.busy": "2022-07-06T06:51:51.621058Z",
     "iopub.status.idle": "2022-07-06T06:51:51.835140Z",
     "shell.execute_reply": "2022-07-06T06:51:51.833789Z"
    },
    "papermill": {
     "duration": 0.243311,
     "end_time": "2022-07-06T06:51:51.837645",
     "exception": false,
     "start_time": "2022-07-06T06:51:51.594334",
     "status": "completed"
    },
    "tags": []
   },
   "outputs": [
    {
     "data": {
      "image/png": "[encoded data removed]",
      "text/plain": [
       "<Figure size 432x288 with 1 Axes>"
      ]
     },
     "metadata": {
      "needs_background": "light"
     },
     "output_type": "display_data"
    }
   ],
   "source": [
    "# Build scatter plot of pop vs life_exp\n",
    "plt.scatter(df_2011['pop'],df_2011['life_exp'])\n",
    "plt.show()"
   ]
  },
  {
   "cell_type": "markdown",
   "id": "2f1efae2",
   "metadata": {
    "papermill": {
     "duration": 0.023542,
     "end_time": "2022-07-06T06:51:51.883926",
     "exception": false,
     "start_time": "2022-07-06T06:51:51.860384",
     "status": "completed"
    },
    "tags": []
   },
   "source": [
    "Make a scatter plot on **pop** and **life_exp** of **df_2011** with log on xscale   \n",
    "**xscale('log')** A logarithmic scale is a nonlinear scale used when there is a large range of quantities. Common uses include earthquake strength, sound loudness, light intensity, and pH of solutions. ... Logarithmic scales are also used in slide rules for multiplying or dividing numbers by adding or subtracting lengths on the scales."
   ]
  },
  {
   "cell_type": "code",
   "execution_count": 18,
   "id": "cbc4c4a5",
   "metadata": {
    "execution": {
     "iopub.execute_input": "2022-07-06T06:51:51.932556Z",
     "iopub.status.busy": "2022-07-06T06:51:51.932094Z",
     "iopub.status.idle": "2022-07-06T06:51:52.465786Z",
     "shell.execute_reply": "2022-07-06T06:51:52.462896Z"
    },
    "papermill": {
     "duration": 0.56315,
     "end_time": "2022-07-06T06:51:52.470177",
     "exception": false,
     "start_time": "2022-07-06T06:51:51.907027",
     "status": "completed"
    },
    "tags": []
   },
   "outputs": [
    {
     "data": {
      "image/png": "[encoded data removed]",
      "text/plain": [
       "<Figure size 432x288 with 1 Axes>"
      ]
     },
     "metadata": {
      "needs_background": "light"
     },
     "output_type": "display_data"
    }
   ],
   "source": [
    "# Build scatter plot of pop vs life_exp with log\n",
    "plt.scatter(df_2011['pop'],df_2011['life_exp'])\n",
    "plt.xscale('log')\n",
    "plt.show()"
   ]
  },
  {
   "cell_type": "markdown",
   "id": "b665c25f",
   "metadata": {
    "papermill": {
     "duration": 0.023782,
     "end_time": "2022-07-06T06:51:52.521174",
     "exception": false,
     "start_time": "2022-07-06T06:51:52.497392",
     "status": "completed"
    },
    "tags": []
   },
   "source": [
    "![Alt text]( https://media.tenor.com/images/cec959c552c36ddd244f61c496c5f9c3/tenor.gif)"
   ]
  },
  {
   "cell_type": "markdown",
   "id": "2ec03837",
   "metadata": {
    "papermill": {
     "duration": 0.022975,
     "end_time": "2022-07-06T06:51:52.567418",
     "exception": false,
     "start_time": "2022-07-06T06:51:52.544443",
     "status": "completed"
    },
    "tags": []
   },
   "source": [
    "## Histogram"
   ]
  },
  {
   "cell_type": "markdown",
   "id": "f01e3df2",
   "metadata": {
    "papermill": {
     "duration": 0.02235,
     "end_time": "2022-07-06T06:51:52.614260",
     "exception": false,
     "start_time": "2022-07-06T06:51:52.591910",
     "status": "completed"
    },
    "tags": []
   },
   "source": [
    "To see how life expectancy in different countries is distributed in 2011, let's create a histogram of <mark>life_exp</mark>."
   ]
  },
  {
   "cell_type": "code",
   "execution_count": 19,
   "id": "d2d14ecf",
   "metadata": {
    "execution": {
     "iopub.execute_input": "2022-07-06T06:51:52.661640Z",
     "iopub.status.busy": "2022-07-06T06:51:52.661201Z",
     "iopub.status.idle": "2022-07-06T06:51:52.680122Z",
     "shell.execute_reply": "2022-07-06T06:51:52.678925Z"
    },
    "papermill": {
     "duration": 0.045524,
     "end_time": "2022-07-06T06:51:52.682688",
     "exception": false,
     "start_time": "2022-07-06T06:51:52.637164",
     "status": "completed"
    },
    "tags": []
   },
   "outputs": [
    {
     "data": {
      "text/html": [
       "<div>\n",
       "<style scoped>\n",
       "    .dataframe tbody tr th:only-of-type {\n",
       "        vertical-align: middle;\n",
       "    }\n",
       "\n",
       "    .dataframe tbody tr th {\n",
       "        vertical-align: top;\n",
       "    }\n",
       "\n",
       "    .dataframe thead th {\n",
       "        text-align: right;\n",
       "    }\n",
       "</style>\n",
       "<table border=\"1\" class=\"dataframe\">\n",
       "  <thead>\n",
       "    <tr style=\"text-align: right;\">\n",
       "      <th></th>\n",
       "      <th>country</th>\n",
       "      <th>year</th>\n",
       "      <th>fertility</th>\n",
       "      <th>life_exp</th>\n",
       "      <th>pop</th>\n",
       "      <th>child_mortality</th>\n",
       "      <th>gdp</th>\n",
       "      <th>region</th>\n",
       "    </tr>\n",
       "  </thead>\n",
       "  <tbody>\n",
       "    <tr>\n",
       "      <th>9898</th>\n",
       "      <td>West Bank and Gaza</td>\n",
       "      <td>2011</td>\n",
       "      <td>4.144</td>\n",
       "      <td>72.829</td>\n",
       "      <td>4152369.0</td>\n",
       "      <td>23.30</td>\n",
       "      <td>4359.0</td>\n",
       "      <td>Middle East &amp; North Africa</td>\n",
       "    </tr>\n",
       "    <tr>\n",
       "      <th>9948</th>\n",
       "      <td>Western Sahara</td>\n",
       "      <td>2011</td>\n",
       "      <td>2.434</td>\n",
       "      <td>67.167</td>\n",
       "      <td>548377.0</td>\n",
       "      <td>48.76</td>\n",
       "      <td>NaN</td>\n",
       "      <td>Middle East &amp; North Africa</td>\n",
       "    </tr>\n",
       "    <tr>\n",
       "      <th>9998</th>\n",
       "      <td>Yemen, Rep.</td>\n",
       "      <td>2011</td>\n",
       "      <td>4.348</td>\n",
       "      <td>62.731</td>\n",
       "      <td>24799880.0</td>\n",
       "      <td>NaN</td>\n",
       "      <td>NaN</td>\n",
       "      <td>Middle East &amp; North Africa</td>\n",
       "    </tr>\n",
       "    <tr>\n",
       "      <th>10048</th>\n",
       "      <td>Zambia</td>\n",
       "      <td>2011</td>\n",
       "      <td>5.773</td>\n",
       "      <td>55.851</td>\n",
       "      <td>13474959.0</td>\n",
       "      <td>81.40</td>\n",
       "      <td>3557.0</td>\n",
       "      <td>Sub-Saharan Africa</td>\n",
       "    </tr>\n",
       "    <tr>\n",
       "      <th>10098</th>\n",
       "      <td>Zimbabwe</td>\n",
       "      <td>2011</td>\n",
       "      <td>3.643</td>\n",
       "      <td>56.040</td>\n",
       "      <td>12754378.0</td>\n",
       "      <td>92.00</td>\n",
       "      <td>1626.0</td>\n",
       "      <td>Sub-Saharan Africa</td>\n",
       "    </tr>\n",
       "  </tbody>\n",
       "</table>\n",
       "</div>"
      ],
      "text/plain": [
       "                  country  year  fertility  life_exp         pop  \\\n",
       "9898   West Bank and Gaza  2011      4.144    72.829   4152369.0   \n",
       "9948       Western Sahara  2011      2.434    67.167    548377.0   \n",
       "9998          Yemen, Rep.  2011      4.348    62.731  24799880.0   \n",
       "10048              Zambia  2011      5.773    55.851  13474959.0   \n",
       "10098            Zimbabwe  2011      3.643    56.040  12754378.0   \n",
       "\n",
       "       child_mortality     gdp                      region  \n",
       "9898             23.30  4359.0  Middle East & North Africa  \n",
       "9948             48.76     NaN  Middle East & North Africa  \n",
       "9998               NaN     NaN  Middle East & North Africa  \n",
       "10048            81.40  3557.0          Sub-Saharan Africa  \n",
       "10098            92.00  1626.0          Sub-Saharan Africa  "
      ]
     },
     "execution_count": 19,
     "metadata": {},
     "output_type": "execute_result"
    }
   ],
   "source": [
    "df_2011.tail()"
   ]
  },
  {
   "cell_type": "code",
   "execution_count": 20,
   "id": "071aa40a",
   "metadata": {
    "execution": {
     "iopub.execute_input": "2022-07-06T06:51:52.732212Z",
     "iopub.status.busy": "2022-07-06T06:51:52.731455Z",
     "iopub.status.idle": "2022-07-06T06:51:52.741934Z",
     "shell.execute_reply": "2022-07-06T06:51:52.740680Z"
    },
    "papermill": {
     "duration": 0.037123,
     "end_time": "2022-07-06T06:51:52.744488",
     "exception": false,
     "start_time": "2022-07-06T06:51:52.707365",
     "status": "completed"
    },
    "tags": []
   },
   "outputs": [
    {
     "data": {
      "text/plain": [
       "47       60.079\n",
       "97       76.979\n",
       "147      70.747\n",
       "197      51.094\n",
       "247      75.610\n",
       "          ...  \n",
       "9898     72.829\n",
       "9948     67.167\n",
       "9998     62.731\n",
       "10048    55.851\n",
       "10098    56.040\n",
       "Name: life_exp, Length: 202, dtype: float64"
      ]
     },
     "execution_count": 20,
     "metadata": {},
     "output_type": "execute_result"
    }
   ],
   "source": [
    "df_2011['life_exp']"
   ]
  },
  {
   "cell_type": "code",
   "execution_count": 21,
   "id": "597a8a94",
   "metadata": {
    "execution": {
     "iopub.execute_input": "2022-07-06T06:51:52.793272Z",
     "iopub.status.busy": "2022-07-06T06:51:52.792461Z",
     "iopub.status.idle": "2022-07-06T06:51:53.002414Z",
     "shell.execute_reply": "2022-07-06T06:51:53.000787Z"
    },
    "papermill": {
     "duration": 0.238185,
     "end_time": "2022-07-06T06:51:53.005626",
     "exception": false,
     "start_time": "2022-07-06T06:51:52.767441",
     "status": "completed"
    },
    "scrolled": true,
    "tags": []
   },
   "outputs": [
    {
     "name": "stderr",
     "output_type": "stream",
     "text": [
      "C:\\Users\\paule\\AppData\\Roaming\\Python\\Python38\\site-packages\\numpy\\lib\\histograms.py:839: RuntimeWarning: invalid value encountered in greater_equal\n",
      "  keep = (tmp_a >= first_edge)\n",
      "C:\\Users\\paule\\AppData\\Roaming\\Python\\Python38\\site-packages\\numpy\\lib\\histograms.py:840: RuntimeWarning: invalid value encountered in less_equal\n",
      "  keep &= (tmp_a <= last_edge)\n"
     ]
    },
    {
     "data": {
      "image/png": "[encoded data removed]",
      "text/plain": [
       "<Figure size 432x288 with 1 Axes>"
      ]
     },
     "metadata": {
      "needs_background": "light"
     },
     "output_type": "display_data"
    }
   ],
   "source": [
    "# Create histogram of life_exp data\n",
    "plt.hist(df_2011['gdp'])\n",
    "\n",
    "# Display histogram\n",
    "plt.show()"
   ]
  },
  {
   "cell_type": "markdown",
   "id": "ef398209",
   "metadata": {
    "papermill": {
     "duration": 0.022819,
     "end_time": "2022-07-06T06:51:53.052805",
     "exception": false,
     "start_time": "2022-07-06T06:51:53.029986",
     "status": "completed"
    },
    "tags": []
   },
   "source": [
    "In the previous exercise, you didn't specify the number of bins. By default, Python sets the number of bins to 10 in that case. The number of bins is pretty important. Too few bins will oversimplify reality and won't show you the details. Too many bins will overcomplicate reality and won't show the bigger picture.\n",
    "\n",
    "To control the number of bins to divide your data in, you can set the bins argument.\n",
    "\n",
    "That's exactly what you'll do in this exercise. You'll be making two plots here. The code in the script already includes <mark>plt.show()</mark> and <mark>plt.clf()</mark> calls; <mark>plt.show()</mark> displays a plot; <mark>plt.clf()</mark> cleans it up again so you can start afresh."
   ]
  },
  {
   "cell_type": "code",
   "execution_count": 19,
   "id": "36d5b07b",
   "metadata": {
    "execution": {
     "iopub.execute_input": "2022-07-06T06:51:53.101526Z",
     "iopub.status.busy": "2022-07-06T06:51:53.100623Z",
     "iopub.status.idle": "2022-07-06T06:51:53.125936Z",
     "shell.execute_reply": "2022-07-06T06:51:53.124750Z"
    },
    "papermill": {
     "duration": 0.052311,
     "end_time": "2022-07-06T06:51:53.128433",
     "exception": false,
     "start_time": "2022-07-06T06:51:53.076122",
     "status": "completed"
    },
    "tags": []
   },
   "outputs": [
    {
     "data": {
      "text/html": [
       "<div>\n",
       "<style scoped>\n",
       "    .dataframe tbody tr th:only-of-type {\n",
       "        vertical-align: middle;\n",
       "    }\n",
       "\n",
       "    .dataframe tbody tr th {\n",
       "        vertical-align: top;\n",
       "    }\n",
       "\n",
       "    .dataframe thead th {\n",
       "        text-align: right;\n",
       "    }\n",
       "</style>\n",
       "<table border=\"1\" class=\"dataframe\">\n",
       "  <thead>\n",
       "    <tr style=\"text-align: right;\">\n",
       "      <th></th>\n",
       "      <th>country</th>\n",
       "      <th>year</th>\n",
       "      <th>fertility</th>\n",
       "      <th>life_exp</th>\n",
       "      <th>pop</th>\n",
       "      <th>child_mortality</th>\n",
       "      <th>gdp</th>\n",
       "      <th>region</th>\n",
       "    </tr>\n",
       "  </thead>\n",
       "  <tbody>\n",
       "    <tr>\n",
       "      <th>0</th>\n",
       "      <td>Afghanistan</td>\n",
       "      <td>1964</td>\n",
       "      <td>7.671</td>\n",
       "      <td>33.639</td>\n",
       "      <td>10474903.0</td>\n",
       "      <td>339.7</td>\n",
       "      <td>1182.0</td>\n",
       "      <td>South Asia</td>\n",
       "    </tr>\n",
       "    <tr>\n",
       "      <th>1</th>\n",
       "      <td>Afghanistan</td>\n",
       "      <td>1965</td>\n",
       "      <td>7.671</td>\n",
       "      <td>34.152</td>\n",
       "      <td>10697983.0</td>\n",
       "      <td>334.1</td>\n",
       "      <td>1182.0</td>\n",
       "      <td>South Asia</td>\n",
       "    </tr>\n",
       "    <tr>\n",
       "      <th>2</th>\n",
       "      <td>Afghanistan</td>\n",
       "      <td>1966</td>\n",
       "      <td>7.671</td>\n",
       "      <td>34.662</td>\n",
       "      <td>10927724.0</td>\n",
       "      <td>328.7</td>\n",
       "      <td>1168.0</td>\n",
       "      <td>South Asia</td>\n",
       "    </tr>\n",
       "    <tr>\n",
       "      <th>3</th>\n",
       "      <td>Afghanistan</td>\n",
       "      <td>1967</td>\n",
       "      <td>7.671</td>\n",
       "      <td>35.170</td>\n",
       "      <td>11163656.0</td>\n",
       "      <td>323.3</td>\n",
       "      <td>1173.0</td>\n",
       "      <td>South Asia</td>\n",
       "    </tr>\n",
       "    <tr>\n",
       "      <th>4</th>\n",
       "      <td>Afghanistan</td>\n",
       "      <td>1968</td>\n",
       "      <td>7.671</td>\n",
       "      <td>35.674</td>\n",
       "      <td>11411022.0</td>\n",
       "      <td>318.1</td>\n",
       "      <td>1187.0</td>\n",
       "      <td>South Asia</td>\n",
       "    </tr>\n",
       "    <tr>\n",
       "      <th>...</th>\n",
       "      <td>...</td>\n",
       "      <td>...</td>\n",
       "      <td>...</td>\n",
       "      <td>...</td>\n",
       "      <td>...</td>\n",
       "      <td>...</td>\n",
       "      <td>...</td>\n",
       "      <td>...</td>\n",
       "    </tr>\n",
       "    <tr>\n",
       "      <th>85</th>\n",
       "      <td>Albania</td>\n",
       "      <td>1999</td>\n",
       "      <td>2.467</td>\n",
       "      <td>73.713</td>\n",
       "      <td>3072725.0</td>\n",
       "      <td>27.5</td>\n",
       "      <td>4912.0</td>\n",
       "      <td>Europe &amp; Central Asia</td>\n",
       "    </tr>\n",
       "    <tr>\n",
       "      <th>86</th>\n",
       "      <td>Albania</td>\n",
       "      <td>2000</td>\n",
       "      <td>2.383</td>\n",
       "      <td>74.200</td>\n",
       "      <td>3071856.0</td>\n",
       "      <td>26.2</td>\n",
       "      <td>5305.0</td>\n",
       "      <td>Europe &amp; Central Asia</td>\n",
       "    </tr>\n",
       "    <tr>\n",
       "      <th>87</th>\n",
       "      <td>Albania</td>\n",
       "      <td>2001</td>\n",
       "      <td>2.291</td>\n",
       "      <td>74.664</td>\n",
       "      <td>3077378.0</td>\n",
       "      <td>24.9</td>\n",
       "      <td>5730.0</td>\n",
       "      <td>Europe &amp; Central Asia</td>\n",
       "    </tr>\n",
       "    <tr>\n",
       "      <th>88</th>\n",
       "      <td>Albania</td>\n",
       "      <td>2002</td>\n",
       "      <td>2.195</td>\n",
       "      <td>75.081</td>\n",
       "      <td>3089778.0</td>\n",
       "      <td>23.6</td>\n",
       "      <td>5913.0</td>\n",
       "      <td>Europe &amp; Central Asia</td>\n",
       "    </tr>\n",
       "    <tr>\n",
       "      <th>89</th>\n",
       "      <td>Albania</td>\n",
       "      <td>2003</td>\n",
       "      <td>2.097</td>\n",
       "      <td>75.437</td>\n",
       "      <td>3106701.0</td>\n",
       "      <td>22.5</td>\n",
       "      <td>6274.0</td>\n",
       "      <td>Europe &amp; Central Asia</td>\n",
       "    </tr>\n",
       "  </tbody>\n",
       "</table>\n",
       "<p>90 rows × 8 columns</p>\n",
       "</div>"
      ],
      "text/plain": [
       "        country  year  fertility  life_exp         pop  child_mortality  \\\n",
       "0   Afghanistan  1964      7.671    33.639  10474903.0            339.7   \n",
       "1   Afghanistan  1965      7.671    34.152  10697983.0            334.1   \n",
       "2   Afghanistan  1966      7.671    34.662  10927724.0            328.7   \n",
       "3   Afghanistan  1967      7.671    35.170  11163656.0            323.3   \n",
       "4   Afghanistan  1968      7.671    35.674  11411022.0            318.1   \n",
       "..          ...   ...        ...       ...         ...              ...   \n",
       "85      Albania  1999      2.467    73.713   3072725.0             27.5   \n",
       "86      Albania  2000      2.383    74.200   3071856.0             26.2   \n",
       "87      Albania  2001      2.291    74.664   3077378.0             24.9   \n",
       "88      Albania  2002      2.195    75.081   3089778.0             23.6   \n",
       "89      Albania  2003      2.097    75.437   3106701.0             22.5   \n",
       "\n",
       "       gdp                 region  \n",
       "0   1182.0             South Asia  \n",
       "1   1182.0             South Asia  \n",
       "2   1168.0             South Asia  \n",
       "3   1173.0             South Asia  \n",
       "4   1187.0             South Asia  \n",
       "..     ...                    ...  \n",
       "85  4912.0  Europe & Central Asia  \n",
       "86  5305.0  Europe & Central Asia  \n",
       "87  5730.0  Europe & Central Asia  \n",
       "88  5913.0  Europe & Central Asia  \n",
       "89  6274.0  Europe & Central Asia  \n",
       "\n",
       "[90 rows x 8 columns]"
      ]
     },
     "execution_count": 19,
     "metadata": {},
     "output_type": "execute_result"
    }
   ],
   "source": [
    "df.head(90)"
   ]
  },
  {
   "cell_type": "code",
   "execution_count": 20,
   "id": "222f015b",
   "metadata": {
    "execution": {
     "iopub.execute_input": "2022-07-06T06:51:53.178181Z",
     "iopub.status.busy": "2022-07-06T06:51:53.177378Z",
     "iopub.status.idle": "2022-07-06T06:51:53.355417Z",
     "shell.execute_reply": "2022-07-06T06:51:53.354053Z"
    },
    "papermill": {
     "duration": 0.205732,
     "end_time": "2022-07-06T06:51:53.358123",
     "exception": false,
     "start_time": "2022-07-06T06:51:53.152391",
     "status": "completed"
    },
    "tags": []
   },
   "outputs": [
    {
     "data": {
      "image/png": "[encoded data removed]",
      "text/plain": [
       "<Figure size 432x288 with 1 Axes>"
      ]
     },
     "metadata": {
      "needs_background": "light"
     },
     "output_type": "display_data"
    }
   ],
   "source": [
    "# Build histogram with 5 bins\n",
    "plt.hist(df['life_exp'], bins=10)\n",
    "\n",
    "# Show\n",
    "plt.show()"
   ]
  },
  {
   "cell_type": "markdown",
   "id": "d89555c4",
   "metadata": {
    "papermill": {
     "duration": 0.025409,
     "end_time": "2022-07-06T06:51:53.407491",
     "exception": false,
     "start_time": "2022-07-06T06:51:53.382082",
     "status": "completed"
    },
    "tags": []
   },
   "source": [
    "Plot a Histogram of **life_exp** with **20 bins**"
   ]
  },
  {
   "cell_type": "code",
   "execution_count": 21,
   "id": "616a9d96",
   "metadata": {
    "execution": {
     "iopub.execute_input": "2022-07-06T06:51:53.457522Z",
     "iopub.status.busy": "2022-07-06T06:51:53.457066Z",
     "iopub.status.idle": "2022-07-06T06:51:53.685893Z",
     "shell.execute_reply": "2022-07-06T06:51:53.684621Z"
    },
    "papermill": {
     "duration": 0.25672,
     "end_time": "2022-07-06T06:51:53.688285",
     "exception": false,
     "start_time": "2022-07-06T06:51:53.431565",
     "status": "completed"
    },
    "scrolled": true,
    "tags": []
   },
   "outputs": [
    {
     "data": {
      "image/png": "[encoded data removed]",
      "text/plain": [
       "<Figure size 432x288 with 1 Axes>"
      ]
     },
     "metadata": {
      "needs_background": "light"
     },
     "output_type": "display_data"
    }
   ],
   "source": [
    "# Build histogram with 20 bins\n",
    "plt.hist(df_2011['life_exp'], bins=20)\n",
    "plt.show()\n"
   ]
  },
  {
   "cell_type": "markdown",
   "id": "f8de1c3c",
   "metadata": {
    "papermill": {
     "duration": 0.024014,
     "end_time": "2022-07-06T06:51:53.736904",
     "exception": false,
     "start_time": "2022-07-06T06:51:53.712890",
     "status": "completed"
    },
    "tags": []
   },
   "source": [
    "containing similar data for **1964** and assign to **df_1964**"
   ]
  },
  {
   "cell_type": "code",
   "execution_count": 22,
   "id": "bdee993d",
   "metadata": {
    "execution": {
     "iopub.execute_input": "2022-07-06T06:51:53.787613Z",
     "iopub.status.busy": "2022-07-06T06:51:53.786798Z",
     "iopub.status.idle": "2022-07-06T06:51:53.805640Z",
     "shell.execute_reply": "2022-07-06T06:51:53.804569Z"
    },
    "papermill": {
     "duration": 0.047265,
     "end_time": "2022-07-06T06:51:53.808256",
     "exception": false,
     "start_time": "2022-07-06T06:51:53.760991",
     "status": "completed"
    },
    "tags": []
   },
   "outputs": [
    {
     "data": {
      "text/html": [
       "<div>\n",
       "<style scoped>\n",
       "    .dataframe tbody tr th:only-of-type {\n",
       "        vertical-align: middle;\n",
       "    }\n",
       "\n",
       "    .dataframe tbody tr th {\n",
       "        vertical-align: top;\n",
       "    }\n",
       "\n",
       "    .dataframe thead th {\n",
       "        text-align: right;\n",
       "    }\n",
       "</style>\n",
       "<table border=\"1\" class=\"dataframe\">\n",
       "  <thead>\n",
       "    <tr style=\"text-align: right;\">\n",
       "      <th></th>\n",
       "      <th>country</th>\n",
       "      <th>year</th>\n",
       "      <th>fertility</th>\n",
       "      <th>life_exp</th>\n",
       "      <th>pop</th>\n",
       "      <th>child_mortality</th>\n",
       "      <th>gdp</th>\n",
       "      <th>region</th>\n",
       "    </tr>\n",
       "  </thead>\n",
       "  <tbody>\n",
       "    <tr>\n",
       "      <th>0</th>\n",
       "      <td>Afghanistan</td>\n",
       "      <td>1964</td>\n",
       "      <td>7.671</td>\n",
       "      <td>33.639</td>\n",
       "      <td>10474903.0</td>\n",
       "      <td>339.70</td>\n",
       "      <td>1182.0</td>\n",
       "      <td>South Asia</td>\n",
       "    </tr>\n",
       "    <tr>\n",
       "      <th>50</th>\n",
       "      <td>Albania</td>\n",
       "      <td>1964</td>\n",
       "      <td>5.711</td>\n",
       "      <td>65.475</td>\n",
       "      <td>1817098.0</td>\n",
       "      <td>122.67</td>\n",
       "      <td>3023.0</td>\n",
       "      <td>Europe &amp; Central Asia</td>\n",
       "    </tr>\n",
       "    <tr>\n",
       "      <th>100</th>\n",
       "      <td>Algeria</td>\n",
       "      <td>1964</td>\n",
       "      <td>7.653</td>\n",
       "      <td>47.953</td>\n",
       "      <td>11654905.0</td>\n",
       "      <td>247.30</td>\n",
       "      <td>5693.0</td>\n",
       "      <td>Middle East &amp; North Africa</td>\n",
       "    </tr>\n",
       "    <tr>\n",
       "      <th>150</th>\n",
       "      <td>Angola</td>\n",
       "      <td>1964</td>\n",
       "      <td>7.425</td>\n",
       "      <td>34.604</td>\n",
       "      <td>5337063.0</td>\n",
       "      <td>305.20</td>\n",
       "      <td>4573.0</td>\n",
       "      <td>Sub-Saharan Africa</td>\n",
       "    </tr>\n",
       "    <tr>\n",
       "      <th>200</th>\n",
       "      <td>Antigua and Barbuda</td>\n",
       "      <td>1964</td>\n",
       "      <td>4.250</td>\n",
       "      <td>63.775</td>\n",
       "      <td>58653.0</td>\n",
       "      <td>72.78</td>\n",
       "      <td>5008.0</td>\n",
       "      <td>America</td>\n",
       "    </tr>\n",
       "  </tbody>\n",
       "</table>\n",
       "</div>"
      ],
      "text/plain": [
       "                 country  year  fertility  life_exp         pop  \\\n",
       "0            Afghanistan  1964      7.671    33.639  10474903.0   \n",
       "50               Albania  1964      5.711    65.475   1817098.0   \n",
       "100              Algeria  1964      7.653    47.953  11654905.0   \n",
       "150               Angola  1964      7.425    34.604   5337063.0   \n",
       "200  Antigua and Barbuda  1964      4.250    63.775     58653.0   \n",
       "\n",
       "     child_mortality     gdp                      region  \n",
       "0             339.70  1182.0                  South Asia  \n",
       "50            122.67  3023.0       Europe & Central Asia  \n",
       "100           247.30  5693.0  Middle East & North Africa  \n",
       "150           305.20  4573.0          Sub-Saharan Africa  \n",
       "200            72.78  5008.0                     America  "
      ]
     },
     "execution_count": 22,
     "metadata": {},
     "output_type": "execute_result"
    }
   ],
   "source": [
    "#write code here\n",
    "df_1964=df[df['year']==1964]\n",
    "df_1964.head()"
   ]
  },
  {
   "cell_type": "code",
   "execution_count": 23,
   "id": "8ae97156",
   "metadata": {
    "execution": {
     "iopub.execute_input": "2022-07-06T06:51:53.859625Z",
     "iopub.status.busy": "2022-07-06T06:51:53.859205Z",
     "iopub.status.idle": "2022-07-06T06:51:54.388543Z",
     "shell.execute_reply": "2022-07-06T06:51:54.387197Z"
    },
    "papermill": {
     "duration": 0.558127,
     "end_time": "2022-07-06T06:51:54.391414",
     "exception": false,
     "start_time": "2022-07-06T06:51:53.833287",
     "status": "completed"
    },
    "tags": []
   },
   "outputs": [
    {
     "data": {
      "image/png": "[encoded data removed]",
      "text/plain": [
       "<Figure size 432x288 with 1 Axes>"
      ]
     },
     "metadata": {
      "needs_background": "light"
     },
     "output_type": "display_data"
    }
   ],
   "source": [
    "plt.scatter(df_1964['pop'],df_1964['life_exp'])\n",
    "plt.xscale('log')\n",
    "plt.show()"
   ]
  },
  {
   "cell_type": "markdown",
   "id": "d3fe5c99",
   "metadata": {
    "papermill": {
     "duration": 0.024311,
     "end_time": "2022-07-06T06:51:54.440777",
     "exception": false,
     "start_time": "2022-07-06T06:51:54.416466",
     "status": "completed"
    },
    "tags": []
   },
   "source": [
    "In the video, you saw population pyramids for the present day and for the future. Because we were using a histogram, it was very easy to make a comparison.\n",
    "\n",
    "Let's do a similar comparison. life_exp contains life expectancy data for different countries in 2011. You also have access to a second list now, containing similar data for 1964"
   ]
  },
  {
   "cell_type": "code",
   "execution_count": 24,
   "id": "2b1e2c0b",
   "metadata": {
    "execution": {
     "iopub.execute_input": "2022-07-06T06:51:54.494017Z",
     "iopub.status.busy": "2022-07-06T06:51:54.493578Z",
     "iopub.status.idle": "2022-07-06T06:51:54.807956Z",
     "shell.execute_reply": "2022-07-06T06:51:54.806571Z"
    },
    "papermill": {
     "duration": 0.345048,
     "end_time": "2022-07-06T06:51:54.811231",
     "exception": false,
     "start_time": "2022-07-06T06:51:54.466183",
     "status": "completed"
    },
    "tags": []
   },
   "outputs": [
    {
     "data": {
      "image/png": "[encoded data removed]",
      "text/plain": [
       "<Figure size 432x288 with 2 Axes>"
      ]
     },
     "metadata": {
      "needs_background": "light"
     },
     "output_type": "display_data"
    }
   ],
   "source": [
    "# Subplot1\n",
    "plt.subplot(1,2,1)\n",
    "\n",
    "# Build histogram with 15 bins\n",
    "plt.hist(df_2011['life_exp'], bins=15)\n",
    "\n",
    "# Subplot2\n",
    "plt.subplot(1,2,2)\n",
    "\n",
    "# Build histogram of life_exp in 1964 with 15 bins\n",
    "plt.hist(df_1964['life_exp'], bins=15)\n",
    "plt.show()"
   ]
  },
  {
   "cell_type": "code",
   "execution_count": 25,
   "id": "4b35a04b",
   "metadata": {
    "execution": {
     "iopub.execute_input": "2022-07-06T06:51:54.863654Z",
     "iopub.status.busy": "2022-07-06T06:51:54.862933Z",
     "iopub.status.idle": "2022-07-06T06:51:55.102200Z",
     "shell.execute_reply": "2022-07-06T06:51:55.101017Z"
    },
    "papermill": {
     "duration": 0.267846,
     "end_time": "2022-07-06T06:51:55.104622",
     "exception": false,
     "start_time": "2022-07-06T06:51:54.836776",
     "status": "completed"
    },
    "tags": []
   },
   "outputs": [
    {
     "data": {
      "image/png": "[encoded data removed]",
      "text/plain": [
       "<Figure size 432x288 with 1 Axes>"
      ]
     },
     "metadata": {
      "needs_background": "light"
     },
     "output_type": "display_data"
    }
   ],
   "source": [
    "plt.hist(df_2011['life_exp'], bins=15,alpha=0.7)\n",
    "plt.hist(df_1964['life_exp'], bins=15, alpha=0.3)\n",
    "plt.show()"
   ]
  },
  {
   "cell_type": "code",
   "execution_count": 26,
   "id": "b6c3c53b",
   "metadata": {
    "execution": {
     "iopub.execute_input": "2022-07-06T06:51:55.158795Z",
     "iopub.status.busy": "2022-07-06T06:51:55.157969Z",
     "iopub.status.idle": "2022-07-06T06:51:55.659294Z",
     "shell.execute_reply": "2022-07-06T06:51:55.657984Z"
    },
    "papermill": {
     "duration": 0.532574,
     "end_time": "2022-07-06T06:51:55.661858",
     "exception": false,
     "start_time": "2022-07-06T06:51:55.129284",
     "status": "completed"
    },
    "tags": []
   },
   "outputs": [
    {
     "data": {
      "image/png": "[encoded data removed]",
      "text/plain": [
       "<Figure size 1080x360 with 2 Axes>"
      ]
     },
     "metadata": {
      "needs_background": "light"
     },
     "output_type": "display_data"
    }
   ],
   "source": [
    "# Specify figure size\n",
    "plt.figure(figsize=(15,5))\n",
    "\n",
    "# Subplot1\n",
    "plt.subplot(1,2,1)\n",
    "\n",
    "# Build histogram with 15 bins\n",
    "plt.hist(df_2011['life_exp'], bins=15)\n",
    "plt.title('2011')\n",
    "\n",
    "\n",
    "# Subplot2\n",
    "plt.subplot(1,2,2)\n",
    "\n",
    "# Build histogram of life_exp in 1964 with 15 bins\n",
    "plt.hist(df_1964['life_exp'], bins=15)\n",
    "plt.title('1964')\n",
    "plt.show()"
   ]
  },
  {
   "cell_type": "markdown",
   "id": "71543707",
   "metadata": {
    "papermill": {
     "duration": 0.025287,
     "end_time": "2022-07-06T06:51:55.714212",
     "exception": false,
     "start_time": "2022-07-06T06:51:55.688925",
     "status": "completed"
    },
    "tags": []
   },
   "source": [
    "**Exercise**   \n",
    "Check if life expectancy is increasing with years or not"
   ]
  },
  {
   "cell_type": "code",
   "execution_count": 27,
   "id": "cd490f6e",
   "metadata": {
    "execution": {
     "iopub.execute_input": "2022-07-06T06:51:55.766745Z",
     "iopub.status.busy": "2022-07-06T06:51:55.766332Z",
     "iopub.status.idle": "2022-07-06T06:51:55.781610Z",
     "shell.execute_reply": "2022-07-06T06:51:55.780721Z"
    },
    "papermill": {
     "duration": 0.044507,
     "end_time": "2022-07-06T06:51:55.784043",
     "exception": false,
     "start_time": "2022-07-06T06:51:55.739536",
     "status": "completed"
    },
    "tags": []
   },
   "outputs": [
    {
     "data": {
      "text/html": [
       "<div>\n",
       "<style scoped>\n",
       "    .dataframe tbody tr th:only-of-type {\n",
       "        vertical-align: middle;\n",
       "    }\n",
       "\n",
       "    .dataframe tbody tr th {\n",
       "        vertical-align: top;\n",
       "    }\n",
       "\n",
       "    .dataframe thead th {\n",
       "        text-align: right;\n",
       "    }\n",
       "</style>\n",
       "<table border=\"1\" class=\"dataframe\">\n",
       "  <thead>\n",
       "    <tr style=\"text-align: right;\">\n",
       "      <th></th>\n",
       "      <th>year</th>\n",
       "      <th>life_exp</th>\n",
       "    </tr>\n",
       "  </thead>\n",
       "  <tbody>\n",
       "    <tr>\n",
       "      <th>0</th>\n",
       "      <td>1964</td>\n",
       "      <td>56.041621</td>\n",
       "    </tr>\n",
       "    <tr>\n",
       "      <th>1</th>\n",
       "      <td>1965</td>\n",
       "      <td>56.408304</td>\n",
       "    </tr>\n",
       "    <tr>\n",
       "      <th>2</th>\n",
       "      <td>1966</td>\n",
       "      <td>56.818852</td>\n",
       "    </tr>\n",
       "    <tr>\n",
       "      <th>3</th>\n",
       "      <td>1967</td>\n",
       "      <td>57.234705</td>\n",
       "    </tr>\n",
       "    <tr>\n",
       "      <th>4</th>\n",
       "      <td>1968</td>\n",
       "      <td>57.579042</td>\n",
       "    </tr>\n",
       "  </tbody>\n",
       "</table>\n",
       "</div>"
      ],
      "text/plain": [
       "   year   life_exp\n",
       "0  1964  56.041621\n",
       "1  1965  56.408304\n",
       "2  1966  56.818852\n",
       "3  1967  57.234705\n",
       "4  1968  57.579042"
      ]
     },
     "execution_count": 27,
     "metadata": {},
     "output_type": "execute_result"
    }
   ],
   "source": [
    "#write code here\n",
    "df_popwor=df.groupby(['year'])['life_exp'].mean().reset_index()\n",
    "df_popwor.head()\n"
   ]
  },
  {
   "cell_type": "code",
   "execution_count": 28,
   "id": "025fa339",
   "metadata": {
    "execution": {
     "iopub.execute_input": "2022-07-06T06:51:55.838050Z",
     "iopub.status.busy": "2022-07-06T06:51:55.836861Z",
     "iopub.status.idle": "2022-07-06T06:51:56.028502Z",
     "shell.execute_reply": "2022-07-06T06:51:56.026940Z"
    },
    "papermill": {
     "duration": 0.22182,
     "end_time": "2022-07-06T06:51:56.031533",
     "exception": false,
     "start_time": "2022-07-06T06:51:55.809713",
     "status": "completed"
    },
    "tags": []
   },
   "outputs": [
    {
     "data": {
      "image/png": "[encoded data removed]",
      "text/plain": [
       "<Figure size 432x288 with 1 Axes>"
      ]
     },
     "metadata": {
      "needs_background": "light"
     },
     "output_type": "display_data"
    }
   ],
   "source": [
    "#write code here\n",
    "plt.plot(df_popwor['year'],df_popwor['life_exp'])\n",
    "plt.title(\"Year vs Life_Exp\")\n",
    "plt.xlabel('Years')\n",
    "plt.ylabel('Life_Exp')\n",
    "plt.show()\n"
   ]
  },
  {
   "cell_type": "code",
   "execution_count": 29,
   "id": "ca2d2e85",
   "metadata": {
    "execution": {
     "iopub.execute_input": "2022-07-06T06:51:56.085697Z",
     "iopub.status.busy": "2022-07-06T06:51:56.085293Z",
     "iopub.status.idle": "2022-07-06T06:51:56.296717Z",
     "shell.execute_reply": "2022-07-06T06:51:56.294367Z"
    },
    "papermill": {
     "duration": 0.241919,
     "end_time": "2022-07-06T06:51:56.300260",
     "exception": false,
     "start_time": "2022-07-06T06:51:56.058341",
     "status": "completed"
    },
    "tags": []
   },
   "outputs": [
    {
     "data": {
      "text/plain": [
       "<matplotlib.collections.PathCollection at 0x7f37b4219d90>"
      ]
     },
     "execution_count": 29,
     "metadata": {},
     "output_type": "execute_result"
    },
    {
     "data": {
      "image/png": "[encoded data removed]",
      "text/plain": [
       "<Figure size 432x288 with 1 Axes>"
      ]
     },
     "metadata": {
      "needs_background": "light"
     },
     "output_type": "display_data"
    }
   ],
   "source": [
    "plt.scatter(df_popwor['year'],df_popwor['life_exp'])"
   ]
  },
  {
   "cell_type": "code",
   "execution_count": null,
   "id": "9315d954",
   "metadata": {
    "papermill": {
     "duration": 0.030535,
     "end_time": "2022-07-06T06:51:56.360088",
     "exception": false,
     "start_time": "2022-07-06T06:51:56.329553",
     "status": "completed"
    },
    "tags": []
   },
   "outputs": [],
   "source": []
  },
  {
   "cell_type": "markdown",
   "id": "7d63e5e8",
   "metadata": {
    "papermill": {
     "duration": 0.025673,
     "end_time": "2022-07-06T06:51:56.412383",
     "exception": false,
     "start_time": "2022-07-06T06:51:56.386710",
     "status": "completed"
    },
    "tags": []
   },
   "source": [
    "## Labels"
   ]
  },
  {
   "cell_type": "markdown",
   "id": "0102757c",
   "metadata": {
    "papermill": {
     "duration": 0.030606,
     "end_time": "2022-07-06T06:51:56.469621",
     "exception": false,
     "start_time": "2022-07-06T06:51:56.439015",
     "status": "completed"
    },
    "tags": []
   },
   "source": [
    "It's time to customize your own plot. This is the fun part, you will see your plot come to life!\n",
    "\n",
    "You're going to work on the scatter plot with world development data: GDP per capita on the x-axis (logarithmic scale), life expectancy on the y-axis. \n",
    "\n",
    "As a first step, let's add axis labels and a title to the plot. You can do this with the <mark>**xlabel('GDP per Capita [in USD]')**</mark>, <mark>**ylabel('Life Expectancy [in years]')**</mark> and <mark>**title('World Development')**</mark> functions, available in matplotlib.pyplot. This sub-package is already imported as plt."
   ]
  },
  {
   "cell_type": "code",
   "execution_count": 30,
   "id": "190e6e7d",
   "metadata": {
    "execution": {
     "iopub.execute_input": "2022-07-06T06:51:56.534697Z",
     "iopub.status.busy": "2022-07-06T06:51:56.533999Z",
     "iopub.status.idle": "2022-07-06T06:51:57.013328Z",
     "shell.execute_reply": "2022-07-06T06:51:57.012069Z"
    },
    "papermill": {
     "duration": 0.515077,
     "end_time": "2022-07-06T06:51:57.016039",
     "exception": false,
     "start_time": "2022-07-06T06:51:56.500962",
     "status": "completed"
    },
    "tags": []
   },
   "outputs": [
    {
     "data": {
      "image/png": "[encoded data removed]",
      "text/plain": [
       "<Figure size 432x288 with 1 Axes>"
      ]
     },
     "metadata": {
      "needs_background": "light"
     },
     "output_type": "display_data"
    }
   ],
   "source": [
    "# Build scatter plot\n",
    "\n",
    "plt.scatter(df['gdp'],df['life_exp'])\n",
    "plt.xscale('log')\n",
    "# Add axis labels\n",
    "plt.xlabel('GDP per Capita [in USD]')\n",
    "plt.ylabel('Life Expentancy [in years]')\n",
    "\n",
    "# Add title\n",
    "plt.title('World Development')\n",
    "\n",
    "# After customizing, display the plot\n",
    "plt.show()"
   ]
  },
  {
   "cell_type": "markdown",
   "id": "0f020b0e",
   "metadata": {
    "papermill": {
     "duration": 0.026875,
     "end_time": "2022-07-06T06:51:57.069225",
     "exception": false,
     "start_time": "2022-07-06T06:51:57.042350",
     "status": "completed"
    },
    "tags": []
   },
   "source": [
    "## Ticks"
   ]
  },
  {
   "cell_type": "markdown",
   "id": "f69a8a82",
   "metadata": {
    "papermill": {
     "duration": 0.025897,
     "end_time": "2022-07-06T06:51:57.121406",
     "exception": false,
     "start_time": "2022-07-06T06:51:57.095509",
     "status": "completed"
    },
    "tags": []
   },
   "source": [
    "The customizations you've coded up to now are available in the script, in a more concise form.\n",
    "\n",
    "In the video, Filip has demonstrated how you could control the y-ticks by specifying two arguments:\n",
    "```python\n",
    "plt.yticks([0,1,2], [\"one\",\"two\",\"three\"])\n",
    "```\n",
    "In this example, the ticks corresponding to the numbers 0, 1 and 2 will be replaced by one, two and three, respectively.\n",
    "\n",
    "Let's do a similar thing for the x-axis of your world development chart, with the <mark>xticks()</mark> function. The tick values 1000, 10000 and 100000 should be replaced by 1k, 10k and 100k. To this end, two lists have already been created for you: <mark>tick_val</mark> and <mark>tick_lab</mark>."
   ]
  },
  {
   "cell_type": "code",
   "execution_count": 31,
   "id": "c3010865",
   "metadata": {
    "execution": {
     "iopub.execute_input": "2022-07-06T06:51:57.176101Z",
     "iopub.status.busy": "2022-07-06T06:51:57.175110Z",
     "iopub.status.idle": "2022-07-06T06:51:57.532760Z",
     "shell.execute_reply": "2022-07-06T06:51:57.531592Z"
    },
    "papermill": {
     "duration": 0.387998,
     "end_time": "2022-07-06T06:51:57.535536",
     "exception": false,
     "start_time": "2022-07-06T06:51:57.147538",
     "status": "completed"
    },
    "tags": []
   },
   "outputs": [
    {
     "data": {
      "image/png": "[encoded data removed]",
      "text/plain": [
       "<Figure size 432x288 with 1 Axes>"
      ]
     },
     "metadata": {
      "needs_background": "light"
     },
     "output_type": "display_data"
    }
   ],
   "source": [
    "# Build scatter plot\n",
    "plt.scatter(df_2011['gdp'],df_2011['life_exp'])\n",
    "\n",
    "plt.xscale('log')\n",
    "plt.xlabel('GDP per Capita [in USD]')\n",
    "plt.ylabel('Life Expectancy [in years]')\n",
    "plt.title('World Development in 2011')\n",
    "\n",
    "# Definition of tick_val and tick_lab\n",
    "\n",
    "tick_val=[1000,10000,100000]\n",
    "tick_lab=['1K','10K','100K']\n",
    "\n",
    "# Adapt the ticks on the x-axis\n",
    "\n",
    "plt.xticks(tick_val,tick_lab)\n",
    "\n",
    "# After customizing, display the plot\n",
    "\n",
    "plt.show()"
   ]
  },
  {
   "cell_type": "markdown",
   "id": "5cd09885",
   "metadata": {
    "papermill": {
     "duration": 0.026975,
     "end_time": "2022-07-06T06:51:57.590466",
     "exception": false,
     "start_time": "2022-07-06T06:51:57.563491",
     "status": "completed"
    },
    "tags": []
   },
   "source": [
    "## Sizes"
   ]
  },
  {
   "cell_type": "markdown",
   "id": "0ab8c92b",
   "metadata": {
    "papermill": {
     "duration": 0.02704,
     "end_time": "2022-07-06T06:51:57.644686",
     "exception": false,
     "start_time": "2022-07-06T06:51:57.617646",
     "status": "completed"
    },
    "tags": []
   },
   "source": [
    "Right now, the scatter plot is just a cloud of blue dots, indistinguishable from each other. Let's change this. Wouldn't it be nice if the size of the dots corresponds to the population? Let's do it for 2011."
   ]
  },
  {
   "cell_type": "markdown",
   "id": "bd362b90",
   "metadata": {
    "papermill": {
     "duration": 0.027503,
     "end_time": "2022-07-06T06:51:57.699667",
     "exception": false,
     "start_time": "2022-07-06T06:51:57.672164",
     "status": "completed"
    },
    "tags": []
   },
   "source": [
    "Display first 5 rows of **df_2011**"
   ]
  },
  {
   "cell_type": "code",
   "execution_count": 32,
   "id": "f8b09969",
   "metadata": {
    "execution": {
     "iopub.execute_input": "2022-07-06T06:51:57.756302Z",
     "iopub.status.busy": "2022-07-06T06:51:57.755909Z",
     "iopub.status.idle": "2022-07-06T06:51:57.773029Z",
     "shell.execute_reply": "2022-07-06T06:51:57.772067Z"
    },
    "papermill": {
     "duration": 0.048612,
     "end_time": "2022-07-06T06:51:57.775190",
     "exception": false,
     "start_time": "2022-07-06T06:51:57.726578",
     "status": "completed"
    },
    "tags": []
   },
   "outputs": [
    {
     "data": {
      "text/html": [
       "<div>\n",
       "<style scoped>\n",
       "    .dataframe tbody tr th:only-of-type {\n",
       "        vertical-align: middle;\n",
       "    }\n",
       "\n",
       "    .dataframe tbody tr th {\n",
       "        vertical-align: top;\n",
       "    }\n",
       "\n",
       "    .dataframe thead th {\n",
       "        text-align: right;\n",
       "    }\n",
       "</style>\n",
       "<table border=\"1\" class=\"dataframe\">\n",
       "  <thead>\n",
       "    <tr style=\"text-align: right;\">\n",
       "      <th></th>\n",
       "      <th>country</th>\n",
       "      <th>year</th>\n",
       "      <th>fertility</th>\n",
       "      <th>life_exp</th>\n",
       "      <th>pop</th>\n",
       "      <th>child_mortality</th>\n",
       "      <th>gdp</th>\n",
       "      <th>region</th>\n",
       "    </tr>\n",
       "  </thead>\n",
       "  <tbody>\n",
       "    <tr>\n",
       "      <th>47</th>\n",
       "      <td>Afghanistan</td>\n",
       "      <td>2011</td>\n",
       "      <td>5.395</td>\n",
       "      <td>60.079</td>\n",
       "      <td>32358260.0</td>\n",
       "      <td>102.3</td>\n",
       "      <td>1695.0</td>\n",
       "      <td>South Asia</td>\n",
       "    </tr>\n",
       "    <tr>\n",
       "      <th>97</th>\n",
       "      <td>Albania</td>\n",
       "      <td>2011</td>\n",
       "      <td>1.748</td>\n",
       "      <td>76.979</td>\n",
       "      <td>3215988.0</td>\n",
       "      <td>16.0</td>\n",
       "      <td>9640.0</td>\n",
       "      <td>Europe &amp; Central Asia</td>\n",
       "    </tr>\n",
       "    <tr>\n",
       "      <th>147</th>\n",
       "      <td>Algeria</td>\n",
       "      <td>2011</td>\n",
       "      <td>2.829</td>\n",
       "      <td>70.747</td>\n",
       "      <td>35980193.0</td>\n",
       "      <td>26.6</td>\n",
       "      <td>12606.0</td>\n",
       "      <td>Middle East &amp; North Africa</td>\n",
       "    </tr>\n",
       "    <tr>\n",
       "      <th>197</th>\n",
       "      <td>Angola</td>\n",
       "      <td>2011</td>\n",
       "      <td>6.099</td>\n",
       "      <td>51.094</td>\n",
       "      <td>19618432.0</td>\n",
       "      <td>177.3</td>\n",
       "      <td>7094.0</td>\n",
       "      <td>Sub-Saharan Africa</td>\n",
       "    </tr>\n",
       "    <tr>\n",
       "      <th>247</th>\n",
       "      <td>Antigua and Barbuda</td>\n",
       "      <td>2011</td>\n",
       "      <td>2.115</td>\n",
       "      <td>75.610</td>\n",
       "      <td>89612.0</td>\n",
       "      <td>9.5</td>\n",
       "      <td>19988.0</td>\n",
       "      <td>America</td>\n",
       "    </tr>\n",
       "  </tbody>\n",
       "</table>\n",
       "</div>"
      ],
      "text/plain": [
       "                 country  year  fertility  life_exp         pop  \\\n",
       "47           Afghanistan  2011      5.395    60.079  32358260.0   \n",
       "97               Albania  2011      1.748    76.979   3215988.0   \n",
       "147              Algeria  2011      2.829    70.747  35980193.0   \n",
       "197               Angola  2011      6.099    51.094  19618432.0   \n",
       "247  Antigua and Barbuda  2011      2.115    75.610     89612.0   \n",
       "\n",
       "     child_mortality      gdp                      region  \n",
       "47             102.3   1695.0                  South Asia  \n",
       "97              16.0   9640.0       Europe & Central Asia  \n",
       "147             26.6  12606.0  Middle East & North Africa  \n",
       "197            177.3   7094.0          Sub-Saharan Africa  \n",
       "247              9.5  19988.0                     America  "
      ]
     },
     "execution_count": 32,
     "metadata": {},
     "output_type": "execute_result"
    }
   ],
   "source": [
    "#write code here\n",
    "df_2011.head()\n"
   ]
  },
  {
   "cell_type": "code",
   "execution_count": 33,
   "id": "9c597de4",
   "metadata": {
    "execution": {
     "iopub.execute_input": "2022-07-06T06:51:57.834281Z",
     "iopub.status.busy": "2022-07-06T06:51:57.832343Z",
     "iopub.status.idle": "2022-07-06T06:51:57.842261Z",
     "shell.execute_reply": "2022-07-06T06:51:57.840879Z"
    },
    "papermill": {
     "duration": 0.04185,
     "end_time": "2022-07-06T06:51:57.844974",
     "exception": false,
     "start_time": "2022-07-06T06:51:57.803124",
     "status": "completed"
    },
    "tags": []
   },
   "outputs": [
    {
     "name": "stderr",
     "output_type": "stream",
     "text": [
      "/opt/conda/lib/python3.7/site-packages/ipykernel_launcher.py:5: SettingWithCopyWarning: \n",
      "A value is trying to be set on a copy of a slice from a DataFrame.\n",
      "Try using .loc[row_indexer,col_indexer] = value instead\n",
      "\n",
      "See the caveats in the documentation: https://pandas.pydata.org/pandas-docs/stable/user_guide/indexing.html#returning-a-view-versus-a-copy\n",
      "  \"\"\"\n"
     ]
    }
   ],
   "source": [
    "#Import numpy library\n",
    "import numpy as np\n",
    "\n",
    "# Store pop as a numpy array: np_pop\n",
    "df_2011['pop_mill']=df_2011['pop']/1000000\n",
    "np_pop=df_2011['pop_mill']\n",
    "#df_2011.head()\n",
    "#Double np_pop\n",
    "np_pop= np_pop * 3\n"
   ]
  },
  {
   "cell_type": "code",
   "execution_count": 34,
   "id": "4fdd60f7",
   "metadata": {
    "execution": {
     "iopub.execute_input": "2022-07-06T06:51:57.902419Z",
     "iopub.status.busy": "2022-07-06T06:51:57.901617Z",
     "iopub.status.idle": "2022-07-06T06:51:57.911052Z",
     "shell.execute_reply": "2022-07-06T06:51:57.909770Z"
    },
    "papermill": {
     "duration": 0.040941,
     "end_time": "2022-07-06T06:51:57.913662",
     "exception": false,
     "start_time": "2022-07-06T06:51:57.872721",
     "status": "completed"
    },
    "tags": []
   },
   "outputs": [
    {
     "data": {
      "text/plain": [
       "47      97.074780\n",
       "97       9.647964\n",
       "147    107.940579\n",
       "197     58.855296\n",
       "247      0.268836\n",
       "Name: pop_mill, dtype: float64"
      ]
     },
     "execution_count": 34,
     "metadata": {},
     "output_type": "execute_result"
    }
   ],
   "source": [
    "np_pop.head()"
   ]
  },
  {
   "cell_type": "code",
   "execution_count": 35,
   "id": "549c33e1",
   "metadata": {
    "execution": {
     "iopub.execute_input": "2022-07-06T06:51:57.972595Z",
     "iopub.status.busy": "2022-07-06T06:51:57.972154Z",
     "iopub.status.idle": "2022-07-06T06:51:58.336600Z",
     "shell.execute_reply": "2022-07-06T06:51:58.335241Z"
    },
    "papermill": {
     "duration": 0.397006,
     "end_time": "2022-07-06T06:51:58.339247",
     "exception": false,
     "start_time": "2022-07-06T06:51:57.942241",
     "status": "completed"
    },
    "tags": []
   },
   "outputs": [
    {
     "data": {
      "image/png": "[encoded data removed]",
      "text/plain": [
       "<Figure size 432x288 with 1 Axes>"
      ]
     },
     "metadata": {
      "needs_background": "light"
     },
     "output_type": "display_data"
    }
   ],
   "source": [
    "# Previous customization\n",
    "\n",
    "plt.scatter(df_2011['gdp'],df_2011['life_exp'], s=np_pop) #TODO #add size in scatter arguments\n",
    "plt.xscale('log')\n",
    "plt.xlabel('GDP per Capita [in USD]')\n",
    "plt.ylabel('Life Expectancy [in years]')\n",
    "plt.title('World Development in 2011')\n",
    "tick_val = [1000,10000,100000]\n",
    "tick_lab = ['1k','10k','100k']\n",
    "plt.xticks(tick_val,tick_lab)\n",
    "\n",
    "# Show plot\n",
    "plt.show()"
   ]
  },
  {
   "cell_type": "markdown",
   "id": "d0793ee5",
   "metadata": {
    "papermill": {
     "duration": 0.027556,
     "end_time": "2022-07-06T06:51:58.394521",
     "exception": false,
     "start_time": "2022-07-06T06:51:58.366965",
     "status": "completed"
    },
    "tags": []
   },
   "source": [
    "## Colors"
   ]
  },
  {
   "cell_type": "markdown",
   "id": "dacaf9a4",
   "metadata": {
    "papermill": {
     "duration": 0.027856,
     "end_time": "2022-07-06T06:51:58.450028",
     "exception": false,
     "start_time": "2022-07-06T06:51:58.422172",
     "status": "completed"
    },
    "tags": []
   },
   "source": [
    "The code you've written up to now is available in the script on the right.\n",
    "\n",
    "The next step is making the plot more colorful! To do this, a list col has been created for you. It's a list with a color for each corresponding region, depending on the continent the country is part of.\n",
    "\n",
    "How did we make the list <mark>col</mark> you ask? The Gapminder data contains a list regions with the region each country belongs to. A dictionary is constructed that maps continents onto colors:\n",
    "```python\n",
    "dict = {\n",
    "    'South Asia':'red',\n",
    "    'Europe & Central Asia':'green',\n",
    "    'Middle East & North Africa':'blue',\n",
    "    'Sub-Saharan Africa':'yellow',\n",
    "    'America':'orange',\n",
    "    'East Asia & Pacific':'black'\n",
    "}\n",
    "```"
   ]
  },
  {
   "cell_type": "markdown",
   "id": "cf132c76",
   "metadata": {
    "papermill": {
     "duration": 0.027463,
     "end_time": "2022-07-06T06:51:58.505398",
     "exception": false,
     "start_time": "2022-07-06T06:51:58.477935",
     "status": "completed"
    },
    "tags": []
   },
   "source": [
    "display unique values of column name **region**"
   ]
  },
  {
   "cell_type": "code",
   "execution_count": 36,
   "id": "9f3302aa",
   "metadata": {
    "execution": {
     "iopub.execute_input": "2022-07-06T06:51:58.566655Z",
     "iopub.status.busy": "2022-07-06T06:51:58.565839Z",
     "iopub.status.idle": "2022-07-06T06:51:58.574843Z",
     "shell.execute_reply": "2022-07-06T06:51:58.573661Z"
    },
    "papermill": {
     "duration": 0.044011,
     "end_time": "2022-07-06T06:51:58.577580",
     "exception": false,
     "start_time": "2022-07-06T06:51:58.533569",
     "status": "completed"
    },
    "tags": []
   },
   "outputs": [
    {
     "data": {
      "text/plain": [
       "array(['South Asia', 'Europe & Central Asia',\n",
       "       'Middle East & North Africa', 'Sub-Saharan Africa', 'America',\n",
       "       'East Asia & Pacific'], dtype=object)"
      ]
     },
     "execution_count": 36,
     "metadata": {},
     "output_type": "execute_result"
    }
   ],
   "source": [
    "#write code here\n",
    "df['region'].unique()"
   ]
  },
  {
   "cell_type": "code",
   "execution_count": 37,
   "id": "18896af1",
   "metadata": {
    "execution": {
     "iopub.execute_input": "2022-07-06T06:51:58.636963Z",
     "iopub.status.busy": "2022-07-06T06:51:58.636170Z",
     "iopub.status.idle": "2022-07-06T06:51:58.641774Z",
     "shell.execute_reply": "2022-07-06T06:51:58.640905Z"
    },
    "papermill": {
     "duration": 0.038542,
     "end_time": "2022-07-06T06:51:58.644275",
     "exception": false,
     "start_time": "2022-07-06T06:51:58.605733",
     "status": "completed"
    },
    "tags": []
   },
   "outputs": [],
   "source": [
    "col = {'South Asia':'red','Europe & Central Asia':'green','Middle East & North Africa':'blue','Sub-Saharan Africa':'yellow',\n",
    "       'America':'orange','East Asia & Pacific':'black'}\n"
   ]
  },
  {
   "cell_type": "code",
   "execution_count": 38,
   "id": "1ad4800a",
   "metadata": {
    "execution": {
     "iopub.execute_input": "2022-07-06T06:51:58.703047Z",
     "iopub.status.busy": "2022-07-06T06:51:58.702270Z",
     "iopub.status.idle": "2022-07-06T06:51:58.710503Z",
     "shell.execute_reply": "2022-07-06T06:51:58.709159Z"
    },
    "papermill": {
     "duration": 0.041671,
     "end_time": "2022-07-06T06:51:58.713993",
     "exception": false,
     "start_time": "2022-07-06T06:51:58.672322",
     "status": "completed"
    },
    "tags": []
   },
   "outputs": [
    {
     "name": "stderr",
     "output_type": "stream",
     "text": [
      "/opt/conda/lib/python3.7/site-packages/ipykernel_launcher.py:1: SettingWithCopyWarning: \n",
      "A value is trying to be set on a copy of a slice from a DataFrame.\n",
      "Try using .loc[row_indexer,col_indexer] = value instead\n",
      "\n",
      "See the caveats in the documentation: https://pandas.pydata.org/pandas-docs/stable/user_guide/indexing.html#returning-a-view-versus-a-copy\n",
      "  \"\"\"Entry point for launching an IPython kernel.\n"
     ]
    }
   ],
   "source": [
    "df_2011['col']=df_2011['region'].map(col)"
   ]
  },
  {
   "cell_type": "code",
   "execution_count": 39,
   "id": "26924f38",
   "metadata": {
    "execution": {
     "iopub.execute_input": "2022-07-06T06:51:58.773891Z",
     "iopub.status.busy": "2022-07-06T06:51:58.773462Z",
     "iopub.status.idle": "2022-07-06T06:51:58.792929Z",
     "shell.execute_reply": "2022-07-06T06:51:58.791687Z"
    },
    "papermill": {
     "duration": 0.052241,
     "end_time": "2022-07-06T06:51:58.795759",
     "exception": false,
     "start_time": "2022-07-06T06:51:58.743518",
     "status": "completed"
    },
    "tags": []
   },
   "outputs": [
    {
     "data": {
      "text/html": [
       "<div>\n",
       "<style scoped>\n",
       "    .dataframe tbody tr th:only-of-type {\n",
       "        vertical-align: middle;\n",
       "    }\n",
       "\n",
       "    .dataframe tbody tr th {\n",
       "        vertical-align: top;\n",
       "    }\n",
       "\n",
       "    .dataframe thead th {\n",
       "        text-align: right;\n",
       "    }\n",
       "</style>\n",
       "<table border=\"1\" class=\"dataframe\">\n",
       "  <thead>\n",
       "    <tr style=\"text-align: right;\">\n",
       "      <th></th>\n",
       "      <th>country</th>\n",
       "      <th>year</th>\n",
       "      <th>fertility</th>\n",
       "      <th>life_exp</th>\n",
       "      <th>pop</th>\n",
       "      <th>child_mortality</th>\n",
       "      <th>gdp</th>\n",
       "      <th>region</th>\n",
       "      <th>pop_mill</th>\n",
       "      <th>col</th>\n",
       "    </tr>\n",
       "  </thead>\n",
       "  <tbody>\n",
       "    <tr>\n",
       "      <th>47</th>\n",
       "      <td>Afghanistan</td>\n",
       "      <td>2011</td>\n",
       "      <td>5.395</td>\n",
       "      <td>60.079</td>\n",
       "      <td>32358260.0</td>\n",
       "      <td>102.3</td>\n",
       "      <td>1695.0</td>\n",
       "      <td>South Asia</td>\n",
       "      <td>32.358260</td>\n",
       "      <td>red</td>\n",
       "    </tr>\n",
       "    <tr>\n",
       "      <th>97</th>\n",
       "      <td>Albania</td>\n",
       "      <td>2011</td>\n",
       "      <td>1.748</td>\n",
       "      <td>76.979</td>\n",
       "      <td>3215988.0</td>\n",
       "      <td>16.0</td>\n",
       "      <td>9640.0</td>\n",
       "      <td>Europe &amp; Central Asia</td>\n",
       "      <td>3.215988</td>\n",
       "      <td>green</td>\n",
       "    </tr>\n",
       "    <tr>\n",
       "      <th>147</th>\n",
       "      <td>Algeria</td>\n",
       "      <td>2011</td>\n",
       "      <td>2.829</td>\n",
       "      <td>70.747</td>\n",
       "      <td>35980193.0</td>\n",
       "      <td>26.6</td>\n",
       "      <td>12606.0</td>\n",
       "      <td>Middle East &amp; North Africa</td>\n",
       "      <td>35.980193</td>\n",
       "      <td>blue</td>\n",
       "    </tr>\n",
       "    <tr>\n",
       "      <th>197</th>\n",
       "      <td>Angola</td>\n",
       "      <td>2011</td>\n",
       "      <td>6.099</td>\n",
       "      <td>51.094</td>\n",
       "      <td>19618432.0</td>\n",
       "      <td>177.3</td>\n",
       "      <td>7094.0</td>\n",
       "      <td>Sub-Saharan Africa</td>\n",
       "      <td>19.618432</td>\n",
       "      <td>yellow</td>\n",
       "    </tr>\n",
       "    <tr>\n",
       "      <th>247</th>\n",
       "      <td>Antigua and Barbuda</td>\n",
       "      <td>2011</td>\n",
       "      <td>2.115</td>\n",
       "      <td>75.610</td>\n",
       "      <td>89612.0</td>\n",
       "      <td>9.5</td>\n",
       "      <td>19988.0</td>\n",
       "      <td>America</td>\n",
       "      <td>0.089612</td>\n",
       "      <td>orange</td>\n",
       "    </tr>\n",
       "  </tbody>\n",
       "</table>\n",
       "</div>"
      ],
      "text/plain": [
       "                 country  year  fertility  life_exp         pop  \\\n",
       "47           Afghanistan  2011      5.395    60.079  32358260.0   \n",
       "97               Albania  2011      1.748    76.979   3215988.0   \n",
       "147              Algeria  2011      2.829    70.747  35980193.0   \n",
       "197               Angola  2011      6.099    51.094  19618432.0   \n",
       "247  Antigua and Barbuda  2011      2.115    75.610     89612.0   \n",
       "\n",
       "     child_mortality      gdp                      region   pop_mill     col  \n",
       "47             102.3   1695.0                  South Asia  32.358260     red  \n",
       "97              16.0   9640.0       Europe & Central Asia   3.215988   green  \n",
       "147             26.6  12606.0  Middle East & North Africa  35.980193    blue  \n",
       "197            177.3   7094.0          Sub-Saharan Africa  19.618432  yellow  \n",
       "247              9.5  19988.0                     America   0.089612  orange  "
      ]
     },
     "execution_count": 39,
     "metadata": {},
     "output_type": "execute_result"
    }
   ],
   "source": [
    "df_2011.head()"
   ]
  },
  {
   "cell_type": "code",
   "execution_count": 40,
   "id": "62e0ddfe",
   "metadata": {
    "execution": {
     "iopub.execute_input": "2022-07-06T06:51:58.877391Z",
     "iopub.status.busy": "2022-07-06T06:51:58.876184Z",
     "iopub.status.idle": "2022-07-06T06:51:59.257094Z",
     "shell.execute_reply": "2022-07-06T06:51:59.255916Z"
    },
    "papermill": {
     "duration": 0.434616,
     "end_time": "2022-07-06T06:51:59.259623",
     "exception": false,
     "start_time": "2022-07-06T06:51:58.825007",
     "status": "completed"
    },
    "tags": []
   },
   "outputs": [
    {
     "data": {
      "image/png": "[encoded data removed]",
      "text/plain": [
       "<Figure size 1080x360 with 1 Axes>"
      ]
     },
     "metadata": {
      "needs_background": "light"
     },
     "output_type": "display_data"
    }
   ],
   "source": [
    "# Specify c and alpha inside plt.scatter()\n",
    "plt.figure(figsize=(15,5))\n",
    "plt.scatter(df_2011['gdp'],df_2011['life_exp'], s=np_pop, c= df_2011['col'],alpha =0.7,) \n",
    "\n",
    "# Previous customization\n",
    "plt.xscale('log')\n",
    "plt.xlabel('GDP per Capita [in USD]')\n",
    "plt.ylabel('Life Expectancy [in years]')\n",
    "plt.title('World Development in 2011')\n",
    "tick_val = [1000,10000,100000]\n",
    "tick_lab = ['1k','10k','100k']\n",
    "plt.xticks(tick_val,tick_lab)\n",
    "\n",
    "# Show plot\n",
    "plt.show()"
   ]
  },
  {
   "cell_type": "markdown",
   "id": "bea8b014",
   "metadata": {
    "papermill": {
     "duration": 0.029884,
     "end_time": "2022-07-06T06:51:59.319569",
     "exception": false,
     "start_time": "2022-07-06T06:51:59.289685",
     "status": "completed"
    },
    "tags": []
   },
   "source": [
    "## Figure Size"
   ]
  },
  {
   "cell_type": "code",
   "execution_count": 41,
   "id": "8d0a1834",
   "metadata": {
    "execution": {
     "iopub.execute_input": "2022-07-06T06:51:59.380778Z",
     "iopub.status.busy": "2022-07-06T06:51:59.379947Z",
     "iopub.status.idle": "2022-07-06T06:51:59.779926Z",
     "shell.execute_reply": "2022-07-06T06:51:59.778640Z"
    },
    "papermill": {
     "duration": 0.433334,
     "end_time": "2022-07-06T06:51:59.782656",
     "exception": false,
     "start_time": "2022-07-06T06:51:59.349322",
     "status": "completed"
    },
    "tags": []
   },
   "outputs": [
    {
     "data": {
      "image/png": "[encoded data removed]",
      "text/plain": [
       "<Figure size 1080x360 with 1 Axes>"
      ]
     },
     "metadata": {
      "needs_background": "light"
     },
     "output_type": "display_data"
    }
   ],
   "source": [
    "# Specify figure size\n",
    "\n",
    "plt.figure(figsize=(15,5))\n",
    "\n",
    "# Build scatter plot with previous customizations\n",
    "plt.scatter(df_2011['gdp'],df_2011['life_exp'], s=np_pop, c=df_2011['col'],alpha=0.7) #TODO #add color arguments\n",
    "\n",
    "# Previous customization\n",
    "plt.xscale('log')\n",
    "plt.xlabel('GDP per Capita [in USD]')\n",
    "plt.ylabel('Life Expectancy [in years]')\n",
    "plt.title('World Development in 2011')\n",
    "tick_val = [1000,10000,100000]\n",
    "tick_lab = ['1k','10k','100k']\n",
    "plt.xticks(tick_val,tick_lab)\n",
    "\n",
    "# Show plot\n",
    "plt.show()"
   ]
  },
  {
   "cell_type": "markdown",
   "id": "4bdd0b0c",
   "metadata": {
    "papermill": {
     "duration": 0.030354,
     "end_time": "2022-07-06T06:51:59.844596",
     "exception": false,
     "start_time": "2022-07-06T06:51:59.814242",
     "status": "completed"
    },
    "tags": []
   },
   "source": [
    "## Additional Customizations"
   ]
  },
  {
   "cell_type": "markdown",
   "id": "774c12bf",
   "metadata": {
    "papermill": {
     "duration": 0.030116,
     "end_time": "2022-07-06T06:51:59.905613",
     "exception": false,
     "start_time": "2022-07-06T06:51:59.875497",
     "status": "completed"
    },
    "tags": []
   },
   "source": [
    "# Quick Exercise!"
   ]
  },
  {
   "cell_type": "markdown",
   "id": "9ec4e7fb",
   "metadata": {
    "papermill": {
     "duration": 0.030515,
     "end_time": "2022-07-06T06:51:59.967405",
     "exception": false,
     "start_time": "2022-07-06T06:51:59.936890",
     "status": "completed"
    },
    "tags": []
   },
   "source": [
    "Build scatter plot of GDP per Capita vs Life Expentancy for year 1970 and specify Pakistan, UAE and UK."
   ]
  },
  {
   "cell_type": "code",
   "execution_count": 42,
   "id": "8b563d11",
   "metadata": {
    "execution": {
     "iopub.execute_input": "2022-07-06T06:52:00.030223Z",
     "iopub.status.busy": "2022-07-06T06:52:00.029788Z",
     "iopub.status.idle": "2022-07-06T06:52:00.035679Z",
     "shell.execute_reply": "2022-07-06T06:52:00.034423Z"
    },
    "papermill": {
     "duration": 0.040147,
     "end_time": "2022-07-06T06:52:00.037887",
     "exception": false,
     "start_time": "2022-07-06T06:51:59.997740",
     "status": "completed"
    },
    "tags": []
   },
   "outputs": [],
   "source": [
    "#write code here\n",
    "df_1970=df[df['year']==1970]"
   ]
  },
  {
   "cell_type": "code",
   "execution_count": 43,
   "id": "0daf9770",
   "metadata": {
    "execution": {
     "iopub.execute_input": "2022-07-06T06:52:00.102344Z",
     "iopub.status.busy": "2022-07-06T06:52:00.101506Z",
     "iopub.status.idle": "2022-07-06T06:52:00.116481Z",
     "shell.execute_reply": "2022-07-06T06:52:00.115327Z"
    },
    "papermill": {
     "duration": 0.050437,
     "end_time": "2022-07-06T06:52:00.118860",
     "exception": false,
     "start_time": "2022-07-06T06:52:00.068423",
     "status": "completed"
    },
    "tags": []
   },
   "outputs": [
    {
     "data": {
      "text/html": [
       "<div>\n",
       "<style scoped>\n",
       "    .dataframe tbody tr th:only-of-type {\n",
       "        vertical-align: middle;\n",
       "    }\n",
       "\n",
       "    .dataframe tbody tr th {\n",
       "        vertical-align: top;\n",
       "    }\n",
       "\n",
       "    .dataframe thead th {\n",
       "        text-align: right;\n",
       "    }\n",
       "</style>\n",
       "<table border=\"1\" class=\"dataframe\">\n",
       "  <thead>\n",
       "    <tr style=\"text-align: right;\">\n",
       "      <th></th>\n",
       "      <th>country</th>\n",
       "      <th>year</th>\n",
       "      <th>fertility</th>\n",
       "      <th>life_exp</th>\n",
       "      <th>pop</th>\n",
       "      <th>child_mortality</th>\n",
       "      <th>gdp</th>\n",
       "      <th>region</th>\n",
       "    </tr>\n",
       "  </thead>\n",
       "  <tbody>\n",
       "    <tr>\n",
       "      <th>6856</th>\n",
       "      <td>Pakistan</td>\n",
       "      <td>1970</td>\n",
       "      <td>6.601</td>\n",
       "      <td>53.482</td>\n",
       "      <td>59382651.0</td>\n",
       "      <td>188.8</td>\n",
       "      <td>1758.0</td>\n",
       "      <td>South Asia</td>\n",
       "    </tr>\n",
       "  </tbody>\n",
       "</table>\n",
       "</div>"
      ],
      "text/plain": [
       "       country  year  fertility  life_exp         pop  child_mortality  \\\n",
       "6856  Pakistan  1970      6.601    53.482  59382651.0            188.8   \n",
       "\n",
       "         gdp      region  \n",
       "6856  1758.0  South Asia  "
      ]
     },
     "execution_count": 43,
     "metadata": {},
     "output_type": "execute_result"
    }
   ],
   "source": [
    "#write code here\n",
    "df_1970[df_1970['country']=='Pakistan']"
   ]
  },
  {
   "cell_type": "code",
   "execution_count": 44,
   "id": "50320e2e",
   "metadata": {
    "execution": {
     "iopub.execute_input": "2022-07-06T06:52:00.185936Z",
     "iopub.status.busy": "2022-07-06T06:52:00.184742Z",
     "iopub.status.idle": "2022-07-06T06:52:00.202671Z",
     "shell.execute_reply": "2022-07-06T06:52:00.201406Z"
    },
    "papermill": {
     "duration": 0.056346,
     "end_time": "2022-07-06T06:52:00.205782",
     "exception": false,
     "start_time": "2022-07-06T06:52:00.149436",
     "status": "completed"
    },
    "tags": []
   },
   "outputs": [
    {
     "data": {
      "text/html": [
       "<div>\n",
       "<style scoped>\n",
       "    .dataframe tbody tr th:only-of-type {\n",
       "        vertical-align: middle;\n",
       "    }\n",
       "\n",
       "    .dataframe tbody tr th {\n",
       "        vertical-align: top;\n",
       "    }\n",
       "\n",
       "    .dataframe thead th {\n",
       "        text-align: right;\n",
       "    }\n",
       "</style>\n",
       "<table border=\"1\" class=\"dataframe\">\n",
       "  <thead>\n",
       "    <tr style=\"text-align: right;\">\n",
       "      <th></th>\n",
       "      <th>country</th>\n",
       "      <th>year</th>\n",
       "      <th>fertility</th>\n",
       "      <th>life_exp</th>\n",
       "      <th>pop</th>\n",
       "      <th>child_mortality</th>\n",
       "      <th>gdp</th>\n",
       "      <th>region</th>\n",
       "    </tr>\n",
       "  </thead>\n",
       "  <tbody>\n",
       "    <tr>\n",
       "      <th>9457</th>\n",
       "      <td>United Kingdom</td>\n",
       "      <td>1970</td>\n",
       "      <td>2.294</td>\n",
       "      <td>72.0</td>\n",
       "      <td>55645390.0</td>\n",
       "      <td>21.0</td>\n",
       "      <td>16933.0</td>\n",
       "      <td>Europe &amp; Central Asia</td>\n",
       "    </tr>\n",
       "  </tbody>\n",
       "</table>\n",
       "</div>"
      ],
      "text/plain": [
       "             country  year  fertility  life_exp         pop  child_mortality  \\\n",
       "9457  United Kingdom  1970      2.294      72.0  55645390.0             21.0   \n",
       "\n",
       "          gdp                 region  \n",
       "9457  16933.0  Europe & Central Asia  "
      ]
     },
     "execution_count": 44,
     "metadata": {},
     "output_type": "execute_result"
    }
   ],
   "source": [
    "df_1970[df_1970['country']=='United Kingdom']"
   ]
  },
  {
   "cell_type": "code",
   "execution_count": 45,
   "id": "59373f0c",
   "metadata": {
    "execution": {
     "iopub.execute_input": "2022-07-06T06:52:00.270174Z",
     "iopub.status.busy": "2022-07-06T06:52:00.269408Z",
     "iopub.status.idle": "2022-07-06T06:52:00.286379Z",
     "shell.execute_reply": "2022-07-06T06:52:00.285439Z"
    },
    "papermill": {
     "duration": 0.05188,
     "end_time": "2022-07-06T06:52:00.288868",
     "exception": false,
     "start_time": "2022-07-06T06:52:00.236988",
     "status": "completed"
    },
    "tags": []
   },
   "outputs": [
    {
     "data": {
      "text/html": [
       "<div>\n",
       "<style scoped>\n",
       "    .dataframe tbody tr th:only-of-type {\n",
       "        vertical-align: middle;\n",
       "    }\n",
       "\n",
       "    .dataframe tbody tr th {\n",
       "        vertical-align: top;\n",
       "    }\n",
       "\n",
       "    .dataframe thead th {\n",
       "        text-align: right;\n",
       "    }\n",
       "</style>\n",
       "<table border=\"1\" class=\"dataframe\">\n",
       "  <thead>\n",
       "    <tr style=\"text-align: right;\">\n",
       "      <th></th>\n",
       "      <th>country</th>\n",
       "      <th>year</th>\n",
       "      <th>fertility</th>\n",
       "      <th>life_exp</th>\n",
       "      <th>pop</th>\n",
       "      <th>child_mortality</th>\n",
       "      <th>gdp</th>\n",
       "      <th>region</th>\n",
       "    </tr>\n",
       "  </thead>\n",
       "  <tbody>\n",
       "    <tr>\n",
       "      <th>9407</th>\n",
       "      <td>United Arab Emirates</td>\n",
       "      <td>1970</td>\n",
       "      <td>6.605</td>\n",
       "      <td>61.614</td>\n",
       "      <td>231754.0</td>\n",
       "      <td>98.4</td>\n",
       "      <td>42822.0</td>\n",
       "      <td>Middle East &amp; North Africa</td>\n",
       "    </tr>\n",
       "  </tbody>\n",
       "</table>\n",
       "</div>"
      ],
      "text/plain": [
       "                   country  year  fertility  life_exp       pop  \\\n",
       "9407  United Arab Emirates  1970      6.605    61.614  231754.0   \n",
       "\n",
       "      child_mortality      gdp                      region  \n",
       "9407             98.4  42822.0  Middle East & North Africa  "
      ]
     },
     "execution_count": 45,
     "metadata": {},
     "output_type": "execute_result"
    }
   ],
   "source": [
    "df_1970[df_1970['country']=='United Arab Emirates']"
   ]
  },
  {
   "cell_type": "code",
   "execution_count": 46,
   "id": "6c24081f",
   "metadata": {
    "execution": {
     "iopub.execute_input": "2022-07-06T06:52:00.355127Z",
     "iopub.status.busy": "2022-07-06T06:52:00.354502Z",
     "iopub.status.idle": "2022-07-06T06:52:00.362105Z",
     "shell.execute_reply": "2022-07-06T06:52:00.360972Z"
    },
    "papermill": {
     "duration": 0.045074,
     "end_time": "2022-07-06T06:52:00.365338",
     "exception": false,
     "start_time": "2022-07-06T06:52:00.320264",
     "status": "completed"
    },
    "tags": []
   },
   "outputs": [
    {
     "name": "stderr",
     "output_type": "stream",
     "text": [
      "/opt/conda/lib/python3.7/site-packages/ipykernel_launcher.py:1: SettingWithCopyWarning: \n",
      "A value is trying to be set on a copy of a slice from a DataFrame.\n",
      "Try using .loc[row_indexer,col_indexer] = value instead\n",
      "\n",
      "See the caveats in the documentation: https://pandas.pydata.org/pandas-docs/stable/user_guide/indexing.html#returning-a-view-versus-a-copy\n",
      "  \"\"\"Entry point for launching an IPython kernel.\n"
     ]
    }
   ],
   "source": [
    "df_1970['col']=df_1970['region'].map(col)"
   ]
  },
  {
   "cell_type": "code",
   "execution_count": 47,
   "id": "51b32140",
   "metadata": {
    "execution": {
     "iopub.execute_input": "2022-07-06T06:52:00.433782Z",
     "iopub.status.busy": "2022-07-06T06:52:00.432461Z",
     "iopub.status.idle": "2022-07-06T06:52:00.440910Z",
     "shell.execute_reply": "2022-07-06T06:52:00.439632Z"
    },
    "papermill": {
     "duration": 0.046182,
     "end_time": "2022-07-06T06:52:00.444087",
     "exception": false,
     "start_time": "2022-07-06T06:52:00.397905",
     "status": "completed"
    },
    "tags": []
   },
   "outputs": [
    {
     "name": "stderr",
     "output_type": "stream",
     "text": [
      "/opt/conda/lib/python3.7/site-packages/ipykernel_launcher.py:2: SettingWithCopyWarning: \n",
      "A value is trying to be set on a copy of a slice from a DataFrame.\n",
      "Try using .loc[row_indexer,col_indexer] = value instead\n",
      "\n",
      "See the caveats in the documentation: https://pandas.pydata.org/pandas-docs/stable/user_guide/indexing.html#returning-a-view-versus-a-copy\n",
      "  \n"
     ]
    }
   ],
   "source": [
    "import numpy as np\n",
    "df_1970['pop mill']=df_1970['pop']/1000000\n",
    "np_pop1=df_1970['pop mill']\n",
    "np_pop1=np_pop1*2"
   ]
  },
  {
   "cell_type": "code",
   "execution_count": 48,
   "id": "006d1fbd",
   "metadata": {
    "execution": {
     "iopub.execute_input": "2022-07-06T06:52:00.511100Z",
     "iopub.status.busy": "2022-07-06T06:52:00.510631Z",
     "iopub.status.idle": "2022-07-06T06:52:00.947994Z",
     "shell.execute_reply": "2022-07-06T06:52:00.946835Z"
    },
    "papermill": {
     "duration": 0.474455,
     "end_time": "2022-07-06T06:52:00.950933",
     "exception": false,
     "start_time": "2022-07-06T06:52:00.476478",
     "status": "completed"
    },
    "tags": []
   },
   "outputs": [
    {
     "data": {
      "image/png": "[encoded data removed]",
      "text/plain": [
       "<Figure size 1080x360 with 1 Axes>"
      ]
     },
     "metadata": {
      "needs_background": "light"
     },
     "output_type": "display_data"
    }
   ],
   "source": [
    "#write code here\n",
    "plt.figure(figsize=(15,5))\n",
    "\n",
    "# scatter plot\n",
    "plt.scatter(df_1970['gdp'],df_1970['life_exp'], s=np_pop1, c=df_1970['col'], alpha=0.7)\n",
    "plt.xscale('log')\n",
    "plt.xlabel('GDP per Capita [in USD]')\n",
    "plt.ylabel('Life Expectancy [in years]')\n",
    "plt.title('World Development in 2011')\n",
    "tick_val = [1000,10000,100000]\n",
    "tick_lab = ['1k','10k','100k']\n",
    "plt.xticks(tick_val,tick_lab)\n",
    "plt.text(1758,53.482,'Pakistan')\n",
    "plt.text(16933.0,72.0,'United Kingdom')\n",
    "plt.text(42822.0,61.614,'United Arab Emirates')\n",
    "plt.grid(True)\n"
   ]
  },
  {
   "cell_type": "code",
   "execution_count": null,
   "id": "7e17bfd8",
   "metadata": {
    "papermill": {
     "duration": 0.035247,
     "end_time": "2022-07-06T06:52:01.020970",
     "exception": false,
     "start_time": "2022-07-06T06:52:00.985723",
     "status": "completed"
    },
    "tags": []
   },
   "outputs": [],
   "source": []
  }
 ],
 "metadata": {
  "kernelspec": {
   "display_name": "Python 3 (ipykernel)",
   "language": "python",
   "name": "python3"
  },
  "language_info": {
   "codemirror_mode": {
    "name": "ipython",
    "version": 3
   },
   "file_extension": ".py",
   "mimetype": "text/x-python",
   "name": "python",
   "nbconvert_exporter": "python",
   "pygments_lexer": "ipython3",
   "version": "3.8.13"
  },
  "papermill": {
   "default_parameters": {},
   "duration": 24.950775,
   "end_time": "2022-07-06T06:52:01.787344",
   "environment_variables": {},
   "exception": null,
   "input_path": "__notebook__.ipynb",
   "output_path": "__notebook__.ipynb",
   "parameters": {},
   "start_time": "2022-07-06T06:51:36.836569",
   "version": "2.3.4"
  }
 },
 "nbformat": 4,
 "nbformat_minor": 5
}
